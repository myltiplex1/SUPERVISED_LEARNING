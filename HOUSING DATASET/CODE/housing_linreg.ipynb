{
 "cells": [
  {
   "cell_type": "code",
   "execution_count": 1,
   "id": "8732e1be",
   "metadata": {},
   "outputs": [],
   "source": [
    "import numpy as np\n",
    "import pandas as pd\n",
    "import matplotlib.pyplot as plt\n",
    "import seaborn as sns"
   ]
  },
  {
   "cell_type": "code",
   "execution_count": 2,
   "id": "fcee506c",
   "metadata": {},
   "outputs": [],
   "source": [
    "df = pd.read_csv('housingdata.csv')"
   ]
  },
  {
   "cell_type": "code",
   "execution_count": 3,
   "id": "0cab8d6b",
   "metadata": {},
   "outputs": [],
   "source": [
    "df = df.drop('Unnamed: 0', axis = 1)"
   ]
  },
  {
   "cell_type": "code",
   "execution_count": 4,
   "id": "34f67cc5",
   "metadata": {},
   "outputs": [],
   "source": [
    "df = df.drop('PID', axis = 1)"
   ]
  },
  {
   "cell_type": "code",
   "execution_count": 5,
   "id": "305b95dd",
   "metadata": {},
   "outputs": [
    {
     "data": {
      "text/plain": [
       "MS SubClass     0\n",
       "Half Bath       0\n",
       "Fireplace Qu    0\n",
       "Fireplaces      0\n",
       "Functional      0\n",
       "               ..\n",
       "Mas Vnr Area    0\n",
       "Mas Vnr Type    0\n",
       "Exterior 2nd    0\n",
       "Exterior 1st    0\n",
       "SalePrice       0\n",
       "Length: 76, dtype: int64"
      ]
     },
     "execution_count": 5,
     "metadata": {},
     "output_type": "execute_result"
    }
   ],
   "source": [
    "df.isnull().sum().sort_values(ascending = False)"
   ]
  },
  {
   "cell_type": "code",
   "execution_count": 6,
   "id": "9d7b365a",
   "metadata": {},
   "outputs": [
    {
     "name": "stdout",
     "output_type": "stream",
     "text": [
      "<class 'pandas.core.frame.DataFrame'>\n",
      "RangeIndex: 2925 entries, 0 to 2924\n",
      "Data columns (total 76 columns):\n",
      " #   Column           Non-Null Count  Dtype  \n",
      "---  ------           --------------  -----  \n",
      " 0   MS SubClass      2925 non-null   int64  \n",
      " 1   MS Zoning        2925 non-null   object \n",
      " 2   Lot Frontage     2925 non-null   float64\n",
      " 3   Lot Area         2925 non-null   int64  \n",
      " 4   Street           2925 non-null   object \n",
      " 5   Lot Shape        2925 non-null   object \n",
      " 6   Land Contour     2925 non-null   object \n",
      " 7   Utilities        2925 non-null   object \n",
      " 8   Lot Config       2925 non-null   object \n",
      " 9   Land Slope       2925 non-null   object \n",
      " 10  Neighborhood     2925 non-null   object \n",
      " 11  Condition 1      2925 non-null   object \n",
      " 12  Condition 2      2925 non-null   object \n",
      " 13  Bldg Type        2925 non-null   object \n",
      " 14  House Style      2925 non-null   object \n",
      " 15  Overall Qual     2925 non-null   int64  \n",
      " 16  Overall Cond     2925 non-null   int64  \n",
      " 17  Year Built       2925 non-null   int64  \n",
      " 18  Year Remod/Add   2925 non-null   int64  \n",
      " 19  Roof Style       2925 non-null   object \n",
      " 20  Roof Matl        2925 non-null   object \n",
      " 21  Exterior 1st     2925 non-null   object \n",
      " 22  Exterior 2nd     2925 non-null   object \n",
      " 23  Mas Vnr Type     2925 non-null   object \n",
      " 24  Mas Vnr Area     2925 non-null   float64\n",
      " 25  Exter Qual       2925 non-null   object \n",
      " 26  Exter Cond       2925 non-null   object \n",
      " 27  Foundation       2925 non-null   object \n",
      " 28  Bsmt Qual        2925 non-null   object \n",
      " 29  Bsmt Cond        2925 non-null   object \n",
      " 30  Bsmt Exposure    2925 non-null   object \n",
      " 31  BsmtFin Type 1   2925 non-null   object \n",
      " 32  BsmtFin SF 1     2925 non-null   float64\n",
      " 33  BsmtFin Type 2   2925 non-null   object \n",
      " 34  BsmtFin SF 2     2925 non-null   float64\n",
      " 35  Bsmt Unf SF      2925 non-null   float64\n",
      " 36  Total Bsmt SF    2925 non-null   float64\n",
      " 37  Heating          2925 non-null   object \n",
      " 38  Heating QC       2925 non-null   object \n",
      " 39  Central Air      2925 non-null   object \n",
      " 40  Electrical       2925 non-null   object \n",
      " 41  1st Flr SF       2925 non-null   int64  \n",
      " 42  2nd Flr SF       2925 non-null   int64  \n",
      " 43  Low Qual Fin SF  2925 non-null   int64  \n",
      " 44  Gr Liv Area      2925 non-null   int64  \n",
      " 45  Bsmt Full Bath   2925 non-null   float64\n",
      " 46  Bsmt Half Bath   2925 non-null   float64\n",
      " 47  Full Bath        2925 non-null   int64  \n",
      " 48  Half Bath        2925 non-null   int64  \n",
      " 49  Bedroom AbvGr    2925 non-null   int64  \n",
      " 50  Kitchen AbvGr    2925 non-null   int64  \n",
      " 51  Kitchen Qual     2925 non-null   object \n",
      " 52  TotRms AbvGrd    2925 non-null   int64  \n",
      " 53  Functional       2925 non-null   object \n",
      " 54  Fireplaces       2925 non-null   int64  \n",
      " 55  Fireplace Qu     2925 non-null   object \n",
      " 56  Garage Type      2925 non-null   object \n",
      " 57  Garage Yr Blt    2925 non-null   float64\n",
      " 58  Garage Finish    2925 non-null   object \n",
      " 59  Garage Cars      2925 non-null   float64\n",
      " 60  Garage Area      2925 non-null   float64\n",
      " 61  Garage Qual      2925 non-null   object \n",
      " 62  Garage Cond      2925 non-null   object \n",
      " 63  Paved Drive      2925 non-null   object \n",
      " 64  Wood Deck SF     2925 non-null   int64  \n",
      " 65  Open Porch SF    2925 non-null   int64  \n",
      " 66  Enclosed Porch   2925 non-null   int64  \n",
      " 67  3Ssn Porch       2925 non-null   int64  \n",
      " 68  Screen Porch     2925 non-null   int64  \n",
      " 69  Pool Area        2925 non-null   int64  \n",
      " 70  Misc Val         2925 non-null   int64  \n",
      " 71  Mo Sold          2925 non-null   int64  \n",
      " 72  Yr Sold          2925 non-null   int64  \n",
      " 73  Sale Type        2925 non-null   object \n",
      " 74  Sale Condition   2925 non-null   object \n",
      " 75  SalePrice        2925 non-null   int64  \n",
      "dtypes: float64(11), int64(26), object(39)\n",
      "memory usage: 1.7+ MB\n"
     ]
    }
   ],
   "source": [
    "df.info()"
   ]
  },
  {
   "cell_type": "code",
   "execution_count": 7,
   "id": "67e388ab",
   "metadata": {},
   "outputs": [],
   "source": [
    "df['MS SubClass'] = np.array(df['MS SubClass'], dtype = 'str')"
   ]
  },
  {
   "cell_type": "code",
   "execution_count": 8,
   "id": "48a940da",
   "metadata": {},
   "outputs": [
    {
     "name": "stdout",
     "output_type": "stream",
     "text": [
      "<class 'pandas.core.frame.DataFrame'>\n",
      "RangeIndex: 2925 entries, 0 to 2924\n",
      "Data columns (total 76 columns):\n",
      " #   Column           Non-Null Count  Dtype  \n",
      "---  ------           --------------  -----  \n",
      " 0   MS SubClass      2925 non-null   object \n",
      " 1   MS Zoning        2925 non-null   object \n",
      " 2   Lot Frontage     2925 non-null   float64\n",
      " 3   Lot Area         2925 non-null   int64  \n",
      " 4   Street           2925 non-null   object \n",
      " 5   Lot Shape        2925 non-null   object \n",
      " 6   Land Contour     2925 non-null   object \n",
      " 7   Utilities        2925 non-null   object \n",
      " 8   Lot Config       2925 non-null   object \n",
      " 9   Land Slope       2925 non-null   object \n",
      " 10  Neighborhood     2925 non-null   object \n",
      " 11  Condition 1      2925 non-null   object \n",
      " 12  Condition 2      2925 non-null   object \n",
      " 13  Bldg Type        2925 non-null   object \n",
      " 14  House Style      2925 non-null   object \n",
      " 15  Overall Qual     2925 non-null   int64  \n",
      " 16  Overall Cond     2925 non-null   int64  \n",
      " 17  Year Built       2925 non-null   int64  \n",
      " 18  Year Remod/Add   2925 non-null   int64  \n",
      " 19  Roof Style       2925 non-null   object \n",
      " 20  Roof Matl        2925 non-null   object \n",
      " 21  Exterior 1st     2925 non-null   object \n",
      " 22  Exterior 2nd     2925 non-null   object \n",
      " 23  Mas Vnr Type     2925 non-null   object \n",
      " 24  Mas Vnr Area     2925 non-null   float64\n",
      " 25  Exter Qual       2925 non-null   object \n",
      " 26  Exter Cond       2925 non-null   object \n",
      " 27  Foundation       2925 non-null   object \n",
      " 28  Bsmt Qual        2925 non-null   object \n",
      " 29  Bsmt Cond        2925 non-null   object \n",
      " 30  Bsmt Exposure    2925 non-null   object \n",
      " 31  BsmtFin Type 1   2925 non-null   object \n",
      " 32  BsmtFin SF 1     2925 non-null   float64\n",
      " 33  BsmtFin Type 2   2925 non-null   object \n",
      " 34  BsmtFin SF 2     2925 non-null   float64\n",
      " 35  Bsmt Unf SF      2925 non-null   float64\n",
      " 36  Total Bsmt SF    2925 non-null   float64\n",
      " 37  Heating          2925 non-null   object \n",
      " 38  Heating QC       2925 non-null   object \n",
      " 39  Central Air      2925 non-null   object \n",
      " 40  Electrical       2925 non-null   object \n",
      " 41  1st Flr SF       2925 non-null   int64  \n",
      " 42  2nd Flr SF       2925 non-null   int64  \n",
      " 43  Low Qual Fin SF  2925 non-null   int64  \n",
      " 44  Gr Liv Area      2925 non-null   int64  \n",
      " 45  Bsmt Full Bath   2925 non-null   float64\n",
      " 46  Bsmt Half Bath   2925 non-null   float64\n",
      " 47  Full Bath        2925 non-null   int64  \n",
      " 48  Half Bath        2925 non-null   int64  \n",
      " 49  Bedroom AbvGr    2925 non-null   int64  \n",
      " 50  Kitchen AbvGr    2925 non-null   int64  \n",
      " 51  Kitchen Qual     2925 non-null   object \n",
      " 52  TotRms AbvGrd    2925 non-null   int64  \n",
      " 53  Functional       2925 non-null   object \n",
      " 54  Fireplaces       2925 non-null   int64  \n",
      " 55  Fireplace Qu     2925 non-null   object \n",
      " 56  Garage Type      2925 non-null   object \n",
      " 57  Garage Yr Blt    2925 non-null   float64\n",
      " 58  Garage Finish    2925 non-null   object \n",
      " 59  Garage Cars      2925 non-null   float64\n",
      " 60  Garage Area      2925 non-null   float64\n",
      " 61  Garage Qual      2925 non-null   object \n",
      " 62  Garage Cond      2925 non-null   object \n",
      " 63  Paved Drive      2925 non-null   object \n",
      " 64  Wood Deck SF     2925 non-null   int64  \n",
      " 65  Open Porch SF    2925 non-null   int64  \n",
      " 66  Enclosed Porch   2925 non-null   int64  \n",
      " 67  3Ssn Porch       2925 non-null   int64  \n",
      " 68  Screen Porch     2925 non-null   int64  \n",
      " 69  Pool Area        2925 non-null   int64  \n",
      " 70  Misc Val         2925 non-null   int64  \n",
      " 71  Mo Sold          2925 non-null   int64  \n",
      " 72  Yr Sold          2925 non-null   int64  \n",
      " 73  Sale Type        2925 non-null   object \n",
      " 74  Sale Condition   2925 non-null   object \n",
      " 75  SalePrice        2925 non-null   int64  \n",
      "dtypes: float64(11), int64(25), object(40)\n",
      "memory usage: 1.7+ MB\n"
     ]
    }
   ],
   "source": [
    "df.info()"
   ]
  },
  {
   "cell_type": "code",
   "execution_count": 9,
   "id": "cb7b902e",
   "metadata": {},
   "outputs": [],
   "source": [
    "df_nums = df.select_dtypes(exclude='object')\n",
    "df_objs = df.select_dtypes(include='object')"
   ]
  },
  {
   "cell_type": "code",
   "execution_count": 10,
   "id": "5ce1c123",
   "metadata": {},
   "outputs": [],
   "source": [
    "df_objs = pd.get_dummies(df_objs,drop_first=True)"
   ]
  },
  {
   "cell_type": "code",
   "execution_count": 11,
   "id": "7e8f91f1",
   "metadata": {},
   "outputs": [],
   "source": [
    "final_df = pd.concat([df_nums,df_objs],axis=1)"
   ]
  },
  {
   "cell_type": "code",
   "execution_count": 12,
   "id": "9ecc21a7",
   "metadata": {},
   "outputs": [
    {
     "data": {
      "text/plain": [
       "Exter Qual_TA       -0.591459\n",
       "Kitchen Qual_TA     -0.527461\n",
       "Fireplace Qu_None   -0.481740\n",
       "Bsmt Qual_TA        -0.453022\n",
       "Garage Finish_Unf   -0.422363\n",
       "                       ...   \n",
       "Garage Cars          0.648488\n",
       "Total Bsmt SF        0.660983\n",
       "Gr Liv Area          0.727279\n",
       "Overall Qual         0.802637\n",
       "SalePrice            1.000000\n",
       "Name: SalePrice, Length: 274, dtype: float64"
      ]
     },
     "execution_count": 12,
     "metadata": {},
     "output_type": "execute_result"
    }
   ],
   "source": [
    "final_df.corr()['SalePrice'].sort_values()"
   ]
  },
  {
   "cell_type": "code",
   "execution_count": 13,
   "id": "d82d0a34",
   "metadata": {},
   "outputs": [],
   "source": [
    "from sklearn.model_selection import train_test_split"
   ]
  },
  {
   "cell_type": "code",
   "execution_count": 14,
   "id": "268130f0",
   "metadata": {},
   "outputs": [
    {
     "data": {
      "text/html": [
       "<div>\n",
       "<style scoped>\n",
       "    .dataframe tbody tr th:only-of-type {\n",
       "        vertical-align: middle;\n",
       "    }\n",
       "\n",
       "    .dataframe tbody tr th {\n",
       "        vertical-align: top;\n",
       "    }\n",
       "\n",
       "    .dataframe thead th {\n",
       "        text-align: right;\n",
       "    }\n",
       "</style>\n",
       "<table border=\"1\" class=\"dataframe\">\n",
       "  <thead>\n",
       "    <tr style=\"text-align: right;\">\n",
       "      <th></th>\n",
       "      <th>Lot Frontage</th>\n",
       "      <th>Lot Area</th>\n",
       "      <th>Overall Qual</th>\n",
       "      <th>Overall Cond</th>\n",
       "      <th>Year Built</th>\n",
       "      <th>Year Remod/Add</th>\n",
       "      <th>Mas Vnr Area</th>\n",
       "      <th>BsmtFin SF 1</th>\n",
       "      <th>BsmtFin SF 2</th>\n",
       "      <th>Bsmt Unf SF</th>\n",
       "      <th>...</th>\n",
       "      <th>Sale Type_ConLw</th>\n",
       "      <th>Sale Type_New</th>\n",
       "      <th>Sale Type_Oth</th>\n",
       "      <th>Sale Type_VWD</th>\n",
       "      <th>Sale Type_WD</th>\n",
       "      <th>Sale Condition_AdjLand</th>\n",
       "      <th>Sale Condition_Alloca</th>\n",
       "      <th>Sale Condition_Family</th>\n",
       "      <th>Sale Condition_Normal</th>\n",
       "      <th>Sale Condition_Partial</th>\n",
       "    </tr>\n",
       "  </thead>\n",
       "  <tbody>\n",
       "    <tr>\n",
       "      <th>0</th>\n",
       "      <td>141.000000</td>\n",
       "      <td>31770</td>\n",
       "      <td>6</td>\n",
       "      <td>5</td>\n",
       "      <td>1960</td>\n",
       "      <td>1960</td>\n",
       "      <td>112.0</td>\n",
       "      <td>639.0</td>\n",
       "      <td>0.0</td>\n",
       "      <td>441.0</td>\n",
       "      <td>...</td>\n",
       "      <td>0</td>\n",
       "      <td>0</td>\n",
       "      <td>0</td>\n",
       "      <td>0</td>\n",
       "      <td>1</td>\n",
       "      <td>0</td>\n",
       "      <td>0</td>\n",
       "      <td>0</td>\n",
       "      <td>1</td>\n",
       "      <td>0</td>\n",
       "    </tr>\n",
       "    <tr>\n",
       "      <th>1</th>\n",
       "      <td>80.000000</td>\n",
       "      <td>11622</td>\n",
       "      <td>5</td>\n",
       "      <td>6</td>\n",
       "      <td>1961</td>\n",
       "      <td>1961</td>\n",
       "      <td>0.0</td>\n",
       "      <td>468.0</td>\n",
       "      <td>144.0</td>\n",
       "      <td>270.0</td>\n",
       "      <td>...</td>\n",
       "      <td>0</td>\n",
       "      <td>0</td>\n",
       "      <td>0</td>\n",
       "      <td>0</td>\n",
       "      <td>1</td>\n",
       "      <td>0</td>\n",
       "      <td>0</td>\n",
       "      <td>0</td>\n",
       "      <td>1</td>\n",
       "      <td>0</td>\n",
       "    </tr>\n",
       "    <tr>\n",
       "      <th>2</th>\n",
       "      <td>81.000000</td>\n",
       "      <td>14267</td>\n",
       "      <td>6</td>\n",
       "      <td>6</td>\n",
       "      <td>1958</td>\n",
       "      <td>1958</td>\n",
       "      <td>108.0</td>\n",
       "      <td>923.0</td>\n",
       "      <td>0.0</td>\n",
       "      <td>406.0</td>\n",
       "      <td>...</td>\n",
       "      <td>0</td>\n",
       "      <td>0</td>\n",
       "      <td>0</td>\n",
       "      <td>0</td>\n",
       "      <td>1</td>\n",
       "      <td>0</td>\n",
       "      <td>0</td>\n",
       "      <td>0</td>\n",
       "      <td>1</td>\n",
       "      <td>0</td>\n",
       "    </tr>\n",
       "    <tr>\n",
       "      <th>3</th>\n",
       "      <td>93.000000</td>\n",
       "      <td>11160</td>\n",
       "      <td>7</td>\n",
       "      <td>5</td>\n",
       "      <td>1968</td>\n",
       "      <td>1968</td>\n",
       "      <td>0.0</td>\n",
       "      <td>1065.0</td>\n",
       "      <td>0.0</td>\n",
       "      <td>1045.0</td>\n",
       "      <td>...</td>\n",
       "      <td>0</td>\n",
       "      <td>0</td>\n",
       "      <td>0</td>\n",
       "      <td>0</td>\n",
       "      <td>1</td>\n",
       "      <td>0</td>\n",
       "      <td>0</td>\n",
       "      <td>0</td>\n",
       "      <td>1</td>\n",
       "      <td>0</td>\n",
       "    </tr>\n",
       "    <tr>\n",
       "      <th>4</th>\n",
       "      <td>74.000000</td>\n",
       "      <td>13830</td>\n",
       "      <td>5</td>\n",
       "      <td>5</td>\n",
       "      <td>1997</td>\n",
       "      <td>1998</td>\n",
       "      <td>0.0</td>\n",
       "      <td>791.0</td>\n",
       "      <td>0.0</td>\n",
       "      <td>137.0</td>\n",
       "      <td>...</td>\n",
       "      <td>0</td>\n",
       "      <td>0</td>\n",
       "      <td>0</td>\n",
       "      <td>0</td>\n",
       "      <td>1</td>\n",
       "      <td>0</td>\n",
       "      <td>0</td>\n",
       "      <td>0</td>\n",
       "      <td>1</td>\n",
       "      <td>0</td>\n",
       "    </tr>\n",
       "    <tr>\n",
       "      <th>...</th>\n",
       "      <td>...</td>\n",
       "      <td>...</td>\n",
       "      <td>...</td>\n",
       "      <td>...</td>\n",
       "      <td>...</td>\n",
       "      <td>...</td>\n",
       "      <td>...</td>\n",
       "      <td>...</td>\n",
       "      <td>...</td>\n",
       "      <td>...</td>\n",
       "      <td>...</td>\n",
       "      <td>...</td>\n",
       "      <td>...</td>\n",
       "      <td>...</td>\n",
       "      <td>...</td>\n",
       "      <td>...</td>\n",
       "      <td>...</td>\n",
       "      <td>...</td>\n",
       "      <td>...</td>\n",
       "      <td>...</td>\n",
       "      <td>...</td>\n",
       "    </tr>\n",
       "    <tr>\n",
       "      <th>2920</th>\n",
       "      <td>37.000000</td>\n",
       "      <td>7937</td>\n",
       "      <td>6</td>\n",
       "      <td>6</td>\n",
       "      <td>1984</td>\n",
       "      <td>1984</td>\n",
       "      <td>0.0</td>\n",
       "      <td>819.0</td>\n",
       "      <td>0.0</td>\n",
       "      <td>184.0</td>\n",
       "      <td>...</td>\n",
       "      <td>0</td>\n",
       "      <td>0</td>\n",
       "      <td>0</td>\n",
       "      <td>0</td>\n",
       "      <td>1</td>\n",
       "      <td>0</td>\n",
       "      <td>0</td>\n",
       "      <td>0</td>\n",
       "      <td>1</td>\n",
       "      <td>0</td>\n",
       "    </tr>\n",
       "    <tr>\n",
       "      <th>2921</th>\n",
       "      <td>75.144444</td>\n",
       "      <td>8885</td>\n",
       "      <td>5</td>\n",
       "      <td>5</td>\n",
       "      <td>1983</td>\n",
       "      <td>1983</td>\n",
       "      <td>0.0</td>\n",
       "      <td>301.0</td>\n",
       "      <td>324.0</td>\n",
       "      <td>239.0</td>\n",
       "      <td>...</td>\n",
       "      <td>0</td>\n",
       "      <td>0</td>\n",
       "      <td>0</td>\n",
       "      <td>0</td>\n",
       "      <td>1</td>\n",
       "      <td>0</td>\n",
       "      <td>0</td>\n",
       "      <td>0</td>\n",
       "      <td>1</td>\n",
       "      <td>0</td>\n",
       "    </tr>\n",
       "    <tr>\n",
       "      <th>2922</th>\n",
       "      <td>62.000000</td>\n",
       "      <td>10441</td>\n",
       "      <td>5</td>\n",
       "      <td>5</td>\n",
       "      <td>1992</td>\n",
       "      <td>1992</td>\n",
       "      <td>0.0</td>\n",
       "      <td>337.0</td>\n",
       "      <td>0.0</td>\n",
       "      <td>575.0</td>\n",
       "      <td>...</td>\n",
       "      <td>0</td>\n",
       "      <td>0</td>\n",
       "      <td>0</td>\n",
       "      <td>0</td>\n",
       "      <td>1</td>\n",
       "      <td>0</td>\n",
       "      <td>0</td>\n",
       "      <td>0</td>\n",
       "      <td>1</td>\n",
       "      <td>0</td>\n",
       "    </tr>\n",
       "    <tr>\n",
       "      <th>2923</th>\n",
       "      <td>77.000000</td>\n",
       "      <td>10010</td>\n",
       "      <td>5</td>\n",
       "      <td>5</td>\n",
       "      <td>1974</td>\n",
       "      <td>1975</td>\n",
       "      <td>0.0</td>\n",
       "      <td>1071.0</td>\n",
       "      <td>123.0</td>\n",
       "      <td>195.0</td>\n",
       "      <td>...</td>\n",
       "      <td>0</td>\n",
       "      <td>0</td>\n",
       "      <td>0</td>\n",
       "      <td>0</td>\n",
       "      <td>1</td>\n",
       "      <td>0</td>\n",
       "      <td>0</td>\n",
       "      <td>0</td>\n",
       "      <td>1</td>\n",
       "      <td>0</td>\n",
       "    </tr>\n",
       "    <tr>\n",
       "      <th>2924</th>\n",
       "      <td>74.000000</td>\n",
       "      <td>9627</td>\n",
       "      <td>7</td>\n",
       "      <td>5</td>\n",
       "      <td>1993</td>\n",
       "      <td>1994</td>\n",
       "      <td>94.0</td>\n",
       "      <td>758.0</td>\n",
       "      <td>0.0</td>\n",
       "      <td>238.0</td>\n",
       "      <td>...</td>\n",
       "      <td>0</td>\n",
       "      <td>0</td>\n",
       "      <td>0</td>\n",
       "      <td>0</td>\n",
       "      <td>1</td>\n",
       "      <td>0</td>\n",
       "      <td>0</td>\n",
       "      <td>0</td>\n",
       "      <td>1</td>\n",
       "      <td>0</td>\n",
       "    </tr>\n",
       "  </tbody>\n",
       "</table>\n",
       "<p>2925 rows × 274 columns</p>\n",
       "</div>"
      ],
      "text/plain": [
       "      Lot Frontage  Lot Area  Overall Qual  Overall Cond  Year Built  \\\n",
       "0       141.000000     31770             6             5        1960   \n",
       "1        80.000000     11622             5             6        1961   \n",
       "2        81.000000     14267             6             6        1958   \n",
       "3        93.000000     11160             7             5        1968   \n",
       "4        74.000000     13830             5             5        1997   \n",
       "...            ...       ...           ...           ...         ...   \n",
       "2920     37.000000      7937             6             6        1984   \n",
       "2921     75.144444      8885             5             5        1983   \n",
       "2922     62.000000     10441             5             5        1992   \n",
       "2923     77.000000     10010             5             5        1974   \n",
       "2924     74.000000      9627             7             5        1993   \n",
       "\n",
       "      Year Remod/Add  Mas Vnr Area  BsmtFin SF 1  BsmtFin SF 2  Bsmt Unf SF  \\\n",
       "0               1960         112.0         639.0           0.0        441.0   \n",
       "1               1961           0.0         468.0         144.0        270.0   \n",
       "2               1958         108.0         923.0           0.0        406.0   \n",
       "3               1968           0.0        1065.0           0.0       1045.0   \n",
       "4               1998           0.0         791.0           0.0        137.0   \n",
       "...              ...           ...           ...           ...          ...   \n",
       "2920            1984           0.0         819.0           0.0        184.0   \n",
       "2921            1983           0.0         301.0         324.0        239.0   \n",
       "2922            1992           0.0         337.0           0.0        575.0   \n",
       "2923            1975           0.0        1071.0         123.0        195.0   \n",
       "2924            1994          94.0         758.0           0.0        238.0   \n",
       "\n",
       "      ...  Sale Type_ConLw  Sale Type_New  Sale Type_Oth  Sale Type_VWD  \\\n",
       "0     ...                0              0              0              0   \n",
       "1     ...                0              0              0              0   \n",
       "2     ...                0              0              0              0   \n",
       "3     ...                0              0              0              0   \n",
       "4     ...                0              0              0              0   \n",
       "...   ...              ...            ...            ...            ...   \n",
       "2920  ...                0              0              0              0   \n",
       "2921  ...                0              0              0              0   \n",
       "2922  ...                0              0              0              0   \n",
       "2923  ...                0              0              0              0   \n",
       "2924  ...                0              0              0              0   \n",
       "\n",
       "      Sale Type_WD   Sale Condition_AdjLand  Sale Condition_Alloca  \\\n",
       "0                 1                       0                      0   \n",
       "1                 1                       0                      0   \n",
       "2                 1                       0                      0   \n",
       "3                 1                       0                      0   \n",
       "4                 1                       0                      0   \n",
       "...             ...                     ...                    ...   \n",
       "2920              1                       0                      0   \n",
       "2921              1                       0                      0   \n",
       "2922              1                       0                      0   \n",
       "2923              1                       0                      0   \n",
       "2924              1                       0                      0   \n",
       "\n",
       "      Sale Condition_Family  Sale Condition_Normal  Sale Condition_Partial  \n",
       "0                         0                      1                       0  \n",
       "1                         0                      1                       0  \n",
       "2                         0                      1                       0  \n",
       "3                         0                      1                       0  \n",
       "4                         0                      1                       0  \n",
       "...                     ...                    ...                     ...  \n",
       "2920                      0                      1                       0  \n",
       "2921                      0                      1                       0  \n",
       "2922                      0                      1                       0  \n",
       "2923                      0                      1                       0  \n",
       "2924                      0                      1                       0  \n",
       "\n",
       "[2925 rows x 274 columns]"
      ]
     },
     "execution_count": 14,
     "metadata": {},
     "output_type": "execute_result"
    }
   ],
   "source": [
    "final_df"
   ]
  },
  {
   "cell_type": "code",
   "execution_count": 15,
   "id": "408cf035",
   "metadata": {},
   "outputs": [],
   "source": [
    "X = final_df.drop('SalePrice', axis = 1)"
   ]
  },
  {
   "cell_type": "code",
   "execution_count": 16,
   "id": "3c34d264",
   "metadata": {},
   "outputs": [],
   "source": [
    "y = final_df['SalePrice']"
   ]
  },
  {
   "cell_type": "code",
   "execution_count": 17,
   "id": "a2c3c376",
   "metadata": {},
   "outputs": [],
   "source": [
    "X_train, X_test, y_train, y_test = train_test_split(X, y, test_size=0.2, random_state=101)"
   ]
  },
  {
   "cell_type": "code",
   "execution_count": 18,
   "id": "4fae69f9",
   "metadata": {},
   "outputs": [],
   "source": [
    "from sklearn.preprocessing import StandardScaler"
   ]
  },
  {
   "cell_type": "code",
   "execution_count": 19,
   "id": "1e868758",
   "metadata": {},
   "outputs": [],
   "source": [
    "from sklearn.linear_model import ElasticNet"
   ]
  },
  {
   "cell_type": "code",
   "execution_count": 20,
   "id": "950a8198",
   "metadata": {},
   "outputs": [],
   "source": [
    "scaler = StandardScaler()"
   ]
  },
  {
   "cell_type": "code",
   "execution_count": 21,
   "id": "5dda165a",
   "metadata": {},
   "outputs": [],
   "source": [
    "model1 = ElasticNet()"
   ]
  },
  {
   "cell_type": "code",
   "execution_count": 22,
   "id": "73df2609",
   "metadata": {},
   "outputs": [],
   "source": [
    "from sklearn.pipeline import Pipeline"
   ]
  },
  {
   "cell_type": "code",
   "execution_count": 23,
   "id": "3b27a234",
   "metadata": {},
   "outputs": [],
   "source": [
    "operations = [('scaler', scaler), ('model1', model1)]"
   ]
  },
  {
   "cell_type": "code",
   "execution_count": 85,
   "id": "c2c7f273",
   "metadata": {},
   "outputs": [],
   "source": [
    "pipe1 = Pipeline(operations)"
   ]
  },
  {
   "cell_type": "code",
   "execution_count": 141,
   "id": "88702566",
   "metadata": {},
   "outputs": [],
   "source": [
    "par_grid = {'model1__alpha': [0.1, 1, 10, 70, 0.01], 'model1__l1_ratio': [0, 0.95, 1, 0.5, 0.7, 4,10,11, 2, 0.89]}"
   ]
  },
  {
   "cell_type": "code",
   "execution_count": 142,
   "id": "9541443e",
   "metadata": {},
   "outputs": [],
   "source": [
    "from sklearn.model_selection import GridSearchCV"
   ]
  },
  {
   "cell_type": "code",
   "execution_count": 143,
   "id": "daf54fdb",
   "metadata": {},
   "outputs": [],
   "source": [
    "grid = GridSearchCV(estimator = pipe1, param_grid =par_grid)"
   ]
  },
  {
   "cell_type": "code",
   "execution_count": 144,
   "id": "603378e0",
   "metadata": {},
   "outputs": [
    {
     "data": {
      "text/plain": [
       "GridSearchCV(estimator=Pipeline(steps=[('scaler', StandardScaler()),\n",
       "                                       ('model1', ElasticNet())]),\n",
       "             param_grid={'model1__alpha': [0.1, 1, 10, 70, 0.01],\n",
       "                         'model1__l1_ratio': [0, 0.95, 1, 0.5, 0.7, 4, 10, 11,\n",
       "                                              2, 0.89]})"
      ]
     },
     "execution_count": 144,
     "metadata": {},
     "output_type": "execute_result"
    }
   ],
   "source": [
    "grid.fit(X_train, y_train)"
   ]
  },
  {
   "cell_type": "code",
   "execution_count": 145,
   "id": "421091c8",
   "metadata": {},
   "outputs": [],
   "source": [
    "import warnings\n",
    "warnings.simplefilter('ignore')"
   ]
  },
  {
   "cell_type": "code",
   "execution_count": 146,
   "id": "7375abab",
   "metadata": {},
   "outputs": [],
   "source": [
    "from sklearn.metrics import r2_score"
   ]
  },
  {
   "cell_type": "code",
   "execution_count": 147,
   "id": "41390e86",
   "metadata": {},
   "outputs": [
    {
     "data": {
      "text/plain": [
       "{'model1__alpha': 70, 'model1__l1_ratio': 1}"
      ]
     },
     "execution_count": 147,
     "metadata": {},
     "output_type": "execute_result"
    }
   ],
   "source": [
    "grid.best_params_"
   ]
  },
  {
   "cell_type": "code",
   "execution_count": 148,
   "id": "71acc033",
   "metadata": {},
   "outputs": [],
   "source": [
    "grid_pred = grid.predict(X_test)"
   ]
  },
  {
   "cell_type": "code",
   "execution_count": 149,
   "id": "91e0383e",
   "metadata": {},
   "outputs": [
    {
     "data": {
      "text/plain": [
       "0.918777411599136"
      ]
     },
     "execution_count": 149,
     "metadata": {},
     "output_type": "execute_result"
    }
   ],
   "source": [
    "r2_score(y_test, grid_pred)"
   ]
  },
  {
   "cell_type": "code",
   "execution_count": 150,
   "id": "156254d0",
   "metadata": {},
   "outputs": [],
   "source": [
    "model = ElasticNet(alpha = 70, l1_ratio = 1)"
   ]
  },
  {
   "cell_type": "code",
   "execution_count": 151,
   "id": "2086eb96",
   "metadata": {},
   "outputs": [],
   "source": [
    "operation = [('scaler', scaler), ('model', model)]"
   ]
  },
  {
   "cell_type": "code",
   "execution_count": 152,
   "id": "d5142638",
   "metadata": {},
   "outputs": [],
   "source": [
    "pipe = Pipeline(operation)"
   ]
  },
  {
   "cell_type": "code",
   "execution_count": 153,
   "id": "8c42f46f",
   "metadata": {},
   "outputs": [
    {
     "data": {
      "text/plain": [
       "Pipeline(steps=[('scaler', StandardScaler()),\n",
       "                ('model', ElasticNet(alpha=70, l1_ratio=1))])"
      ]
     },
     "execution_count": 153,
     "metadata": {},
     "output_type": "execute_result"
    }
   ],
   "source": [
    "pipe.fit(X_train, y_train)"
   ]
  },
  {
   "cell_type": "code",
   "execution_count": 154,
   "id": "be797dd2",
   "metadata": {},
   "outputs": [],
   "source": [
    "from sklearn.metrics import mean_squared_error, mean_absolute_error, r2_score"
   ]
  },
  {
   "cell_type": "code",
   "execution_count": 155,
   "id": "10b04ca9",
   "metadata": {},
   "outputs": [],
   "source": [
    "y_pred = pipe.predict(X_test)"
   ]
  },
  {
   "cell_type": "code",
   "execution_count": 156,
   "id": "7a5bbd98",
   "metadata": {},
   "outputs": [],
   "source": [
    "MAE =  mean_absolute_error(y_test, y_pred)"
   ]
  },
  {
   "cell_type": "code",
   "execution_count": 157,
   "id": "0c8009a4",
   "metadata": {},
   "outputs": [],
   "source": [
    "RMSE = np.sqrt(mean_squared_error(y_test, y_pred))"
   ]
  },
  {
   "cell_type": "code",
   "execution_count": 158,
   "id": "22776ae5",
   "metadata": {},
   "outputs": [
    {
     "data": {
      "text/plain": [
       "14334.13298974746"
      ]
     },
     "execution_count": 158,
     "metadata": {},
     "output_type": "execute_result"
    }
   ],
   "source": [
    "MAE"
   ]
  },
  {
   "cell_type": "code",
   "execution_count": 159,
   "id": "355ee0c8",
   "metadata": {},
   "outputs": [
    {
     "data": {
      "text/plain": [
       "22009.646605895872"
      ]
     },
     "execution_count": 159,
     "metadata": {},
     "output_type": "execute_result"
    }
   ],
   "source": [
    "RMSE"
   ]
  },
  {
   "cell_type": "code",
   "execution_count": 160,
   "id": "8995bbe6",
   "metadata": {},
   "outputs": [],
   "source": [
    "score = r2_score(y_test, y_pred)"
   ]
  },
  {
   "cell_type": "code",
   "execution_count": 161,
   "id": "29c8976e",
   "metadata": {},
   "outputs": [
    {
     "data": {
      "text/plain": [
       "0.918777411599136"
      ]
     },
     "execution_count": 161,
     "metadata": {},
     "output_type": "execute_result"
    }
   ],
   "source": [
    "score"
   ]
  },
  {
   "cell_type": "code",
   "execution_count": 162,
   "id": "9ff8ec3b",
   "metadata": {},
   "outputs": [
    {
     "data": {
      "text/plain": [
       "180815.53743589742"
      ]
     },
     "execution_count": 162,
     "metadata": {},
     "output_type": "execute_result"
    }
   ],
   "source": [
    "np.mean(df['SalePrice'])"
   ]
  },
  {
   "cell_type": "code",
   "execution_count": 163,
   "id": "4d444608",
   "metadata": {},
   "outputs": [
    {
     "data": {
      "text/plain": [
       "0       215000\n",
       "1       105000\n",
       "2       172000\n",
       "3       244000\n",
       "4       189900\n",
       "         ...  \n",
       "2920    142500\n",
       "2921    131000\n",
       "2922    132000\n",
       "2923    170000\n",
       "2924    188000\n",
       "Name: SalePrice, Length: 2925, dtype: int64"
      ]
     },
     "execution_count": 163,
     "metadata": {},
     "output_type": "execute_result"
    }
   ],
   "source": [
    "df['SalePrice']"
   ]
  },
  {
   "cell_type": "code",
   "execution_count": null,
   "id": "38359384",
   "metadata": {},
   "outputs": [],
   "source": []
  },
  {
   "cell_type": "code",
   "execution_count": null,
   "id": "63567a73",
   "metadata": {},
   "outputs": [],
   "source": []
  }
 ],
 "metadata": {
  "kernelspec": {
   "display_name": "Python 3 (ipykernel)",
   "language": "python",
   "name": "python3"
  },
  "language_info": {
   "codemirror_mode": {
    "name": "ipython",
    "version": 3
   },
   "file_extension": ".py",
   "mimetype": "text/x-python",
   "name": "python",
   "nbconvert_exporter": "python",
   "pygments_lexer": "ipython3",
   "version": "3.9.12"
  }
 },
 "nbformat": 4,
 "nbformat_minor": 5
}
