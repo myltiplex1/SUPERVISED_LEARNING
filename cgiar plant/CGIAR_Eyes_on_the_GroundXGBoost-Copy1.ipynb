{
 "cells": [
  {
   "cell_type": "code",
   "execution_count": 1,
   "metadata": {
    "id": "qcx_yzL-P2Kb"
   },
   "outputs": [],
   "source": [
    "import numpy as np\n",
    "import pandas as pd\n",
    "import matplotlib.pyplot as plt\n",
    "import seaborn as sns"
   ]
  },
  {
   "cell_type": "code",
   "execution_count": 2,
   "metadata": {
    "id": "0IJWgPJgQ90Q"
   },
   "outputs": [],
   "source": [
    "data = pd.read_csv('Train.csv')"
   ]
  },
  {
   "cell_type": "code",
   "execution_count": 3,
   "metadata": {
    "colab": {
     "base_uri": "https://localhost:8080/",
     "height": 206
    },
    "id": "wgdnTEKwZS73",
    "outputId": "ab260646-f72f-4355-e651-4a826219b30e"
   },
   "outputs": [
    {
     "data": {
      "text/html": [
       "<div>\n",
       "<style scoped>\n",
       "    .dataframe tbody tr th:only-of-type {\n",
       "        vertical-align: middle;\n",
       "    }\n",
       "\n",
       "    .dataframe tbody tr th {\n",
       "        vertical-align: top;\n",
       "    }\n",
       "\n",
       "    .dataframe thead th {\n",
       "        text-align: right;\n",
       "    }\n",
       "</style>\n",
       "<table border=\"1\" class=\"dataframe\">\n",
       "  <thead>\n",
       "    <tr style=\"text-align: right;\">\n",
       "      <th></th>\n",
       "      <th>ID</th>\n",
       "      <th>filename</th>\n",
       "      <th>growth_stage</th>\n",
       "      <th>damage</th>\n",
       "      <th>extent</th>\n",
       "      <th>season</th>\n",
       "    </tr>\n",
       "  </thead>\n",
       "  <tbody>\n",
       "    <tr>\n",
       "      <th>0</th>\n",
       "      <td>ID_1S8OOWQYCB</td>\n",
       "      <td>L427F01330C01S03961Rp02052.jpg</td>\n",
       "      <td>S</td>\n",
       "      <td>WD</td>\n",
       "      <td>0</td>\n",
       "      <td>SR2020</td>\n",
       "    </tr>\n",
       "    <tr>\n",
       "      <th>1</th>\n",
       "      <td>ID_0MD959MIZ0</td>\n",
       "      <td>L1083F00930C39S12674Ip.jpg</td>\n",
       "      <td>V</td>\n",
       "      <td>G</td>\n",
       "      <td>0</td>\n",
       "      <td>SR2021</td>\n",
       "    </tr>\n",
       "    <tr>\n",
       "      <th>2</th>\n",
       "      <td>ID_JRJCI4Q11V</td>\n",
       "      <td>24_initial_1_1463_1463.JPG</td>\n",
       "      <td>V</td>\n",
       "      <td>G</td>\n",
       "      <td>0</td>\n",
       "      <td>LR2020</td>\n",
       "    </tr>\n",
       "    <tr>\n",
       "      <th>3</th>\n",
       "      <td>ID_DBO3ZGI1GM</td>\n",
       "      <td>L341F00167C01S00324Rp14178.jpg</td>\n",
       "      <td>M</td>\n",
       "      <td>DR</td>\n",
       "      <td>60</td>\n",
       "      <td>SR2020</td>\n",
       "    </tr>\n",
       "    <tr>\n",
       "      <th>4</th>\n",
       "      <td>ID_ORZLWTEUUS</td>\n",
       "      <td>L1084F02394C39S13931Ip.jpg</td>\n",
       "      <td>V</td>\n",
       "      <td>G</td>\n",
       "      <td>0</td>\n",
       "      <td>SR2021</td>\n",
       "    </tr>\n",
       "  </tbody>\n",
       "</table>\n",
       "</div>"
      ],
      "text/plain": [
       "              ID                        filename growth_stage damage  extent  \\\n",
       "0  ID_1S8OOWQYCB  L427F01330C01S03961Rp02052.jpg            S     WD       0   \n",
       "1  ID_0MD959MIZ0      L1083F00930C39S12674Ip.jpg            V      G       0   \n",
       "2  ID_JRJCI4Q11V      24_initial_1_1463_1463.JPG            V      G       0   \n",
       "3  ID_DBO3ZGI1GM  L341F00167C01S00324Rp14178.jpg            M     DR      60   \n",
       "4  ID_ORZLWTEUUS      L1084F02394C39S13931Ip.jpg            V      G       0   \n",
       "\n",
       "   season  \n",
       "0  SR2020  \n",
       "1  SR2021  \n",
       "2  LR2020  \n",
       "3  SR2020  \n",
       "4  SR2021  "
      ]
     },
     "execution_count": 3,
     "metadata": {},
     "output_type": "execute_result"
    }
   ],
   "source": [
    "data.head()"
   ]
  },
  {
   "cell_type": "code",
   "execution_count": 4,
   "metadata": {
    "colab": {
     "base_uri": "https://localhost:8080/"
    },
    "id": "Uo0zCSj4RC2b",
    "outputId": "58099278-593b-4f1c-c239-f7a4b6eb0001"
   },
   "outputs": [
    {
     "data": {
      "text/plain": [
       "array(['L427F01330C01S03961Rp02052.jpg', 'L1083F00930C39S12674Ip.jpg',\n",
       "       '24_initial_1_1463_1463.JPG', ...,\n",
       "       'L134F00766C01S09784Rp26034.jpg',\n",
       "       'L1153F02464C01S00194Rp01561.jpg',\n",
       "       'L406F00362C01S00614Rp06760.jpg'], dtype=object)"
      ]
     },
     "execution_count": 4,
     "metadata": {},
     "output_type": "execute_result"
    }
   ],
   "source": [
    "data['filename'].unique()"
   ]
  },
  {
   "cell_type": "code",
   "execution_count": 5,
   "metadata": {
    "colab": {
     "base_uri": "https://localhost:8080/"
    },
    "id": "01lKnSUuRD75",
    "outputId": "8c4674b8-a3c5-4297-c4ec-88a37544b4c2"
   },
   "outputs": [
    {
     "name": "stdout",
     "output_type": "stream",
     "text": [
      "<class 'pandas.core.frame.DataFrame'>\n",
      "RangeIndex: 26068 entries, 0 to 26067\n",
      "Data columns (total 6 columns):\n",
      " #   Column        Non-Null Count  Dtype \n",
      "---  ------        --------------  ----- \n",
      " 0   ID            26068 non-null  object\n",
      " 1   filename      26068 non-null  object\n",
      " 2   growth_stage  26068 non-null  object\n",
      " 3   damage        26068 non-null  object\n",
      " 4   extent        26068 non-null  int64 \n",
      " 5   season        26068 non-null  object\n",
      "dtypes: int64(1), object(5)\n",
      "memory usage: 1.2+ MB\n"
     ]
    }
   ],
   "source": [
    "data.info()"
   ]
  },
  {
   "cell_type": "code",
   "execution_count": 6,
   "metadata": {
    "colab": {
     "base_uri": "https://localhost:8080/"
    },
    "id": "2Z1TW0zORngZ",
    "outputId": "410c1ef1-0657-490b-8317-6ae5fb1632db"
   },
   "outputs": [
    {
     "data": {
      "text/plain": [
       "ID              0\n",
       "filename        0\n",
       "growth_stage    0\n",
       "damage          0\n",
       "extent          0\n",
       "season          0\n",
       "dtype: int64"
      ]
     },
     "execution_count": 6,
     "metadata": {},
     "output_type": "execute_result"
    }
   ],
   "source": [
    "data.isnull().sum()"
   ]
  },
  {
   "cell_type": "code",
   "execution_count": 7,
   "metadata": {
    "colab": {
     "base_uri": "https://localhost:8080/"
    },
    "id": "okn-az4rZFsC",
    "outputId": "0e084580-191a-4b8d-ed95-67c42603bb93"
   },
   "outputs": [
    {
     "data": {
      "text/plain": [
       "array(['S', 'V', 'M', 'F'], dtype=object)"
      ]
     },
     "execution_count": 7,
     "metadata": {},
     "output_type": "execute_result"
    }
   ],
   "source": [
    "data['growth_stage'].unique()"
   ]
  },
  {
   "cell_type": "code",
   "execution_count": 8,
   "metadata": {
    "colab": {
     "base_uri": "https://localhost:8080/"
    },
    "id": "aWjD2ED_ZYfO",
    "outputId": "34cdfcea-2d25-46eb-8029-ec9c161e0bc1"
   },
   "outputs": [
    {
     "data": {
      "text/plain": [
       "array(['SR2020', 'SR2021', 'LR2020', 'LR2021'], dtype=object)"
      ]
     },
     "execution_count": 8,
     "metadata": {},
     "output_type": "execute_result"
    }
   ],
   "source": [
    "data['season'].unique()"
   ]
  },
  {
   "cell_type": "code",
   "execution_count": 9,
   "metadata": {
    "colab": {
     "base_uri": "https://localhost:8080/"
    },
    "id": "BEU_FIQpZjMV",
    "outputId": "e3afd286-8413-4460-ce7a-c2f4a4e6bca2"
   },
   "outputs": [
    {
     "data": {
      "text/plain": [
       "array(['WD', 'G', 'DR', 'ND', 'DS', 'PS', 'WN', 'FD'], dtype=object)"
      ]
     },
     "execution_count": 9,
     "metadata": {},
     "output_type": "execute_result"
    }
   ],
   "source": [
    "data['damage'].unique()"
   ]
  },
  {
   "cell_type": "code",
   "execution_count": 10,
   "metadata": {
    "colab": {
     "base_uri": "https://localhost:8080/"
    },
    "id": "lBxGzS_aZqc1",
    "outputId": "0a2854a4-782e-465c-d4ce-d32f48406b49"
   },
   "outputs": [
    {
     "data": {
      "text/plain": [
       "dtype('int64')"
      ]
     },
     "execution_count": 10,
     "metadata": {},
     "output_type": "execute_result"
    }
   ],
   "source": [
    "data['extent'].dtype"
   ]
  },
  {
   "cell_type": "code",
   "execution_count": 11,
   "metadata": {
    "colab": {
     "base_uri": "https://localhost:8080/"
    },
    "id": "jIDyvLEJZtqM",
    "outputId": "71643998-33f4-4c42-a395-98183feba5ad"
   },
   "outputs": [
    {
     "data": {
      "text/plain": [
       "(26068, 6)"
      ]
     },
     "execution_count": 11,
     "metadata": {},
     "output_type": "execute_result"
    }
   ],
   "source": [
    "data.shape"
   ]
  },
  {
   "cell_type": "code",
   "execution_count": 12,
   "metadata": {
    "colab": {
     "base_uri": "https://localhost:8080/",
     "height": 450
    },
    "id": "c1uCAlJghBdL",
    "outputId": "8deb5543-ee0d-42ba-d4e0-07a65d982d0a"
   },
   "outputs": [
    {
     "data": {
      "image/png": "[encoded data removed]",
      "text/plain": [
       "<Figure size 640x480 with 1 Axes>"
      ]
     },
     "metadata": {},
     "output_type": "display_data"
    }
   ],
   "source": [
    "sns.lineplot(data=data, x='growth_stage', y='extent');"
   ]
  },
  {
   "cell_type": "code",
   "execution_count": 13,
   "metadata": {
    "colab": {
     "base_uri": "https://localhost:8080/",
     "height": 450
    },
    "id": "mjmcuvZ3hP4q",
    "outputId": "d0391666-3b24-48c6-98b7-d4fe0ca13635"
   },
   "outputs": [
    {
     "data": {
      "image/png": "[encoded data removed]",
      "text/plain": [
       "<Figure size 640x480 with 1 Axes>"
      ]
     },
     "metadata": {},
     "output_type": "display_data"
    }
   ],
   "source": [
    "sns.countplot(data=data, x='growth_stage');"
   ]
  },
  {
   "cell_type": "code",
   "execution_count": 14,
   "metadata": {
    "colab": {
     "base_uri": "https://localhost:8080/",
     "height": 450
    },
    "id": "bkOSzFKbhjEJ",
    "outputId": "7c8eeac0-493e-4a04-e256-362057e71328"
   },
   "outputs": [
    {
     "data": {
      "image/png": "[encoded data removed]",
      "text/plain": [
       "<Figure size 640x480 with 1 Axes>"
      ]
     },
     "metadata": {},
     "output_type": "display_data"
    }
   ],
   "source": [
    "sns.lineplot(data=data, x='growth_stage', y='extent', hue='damage')\n",
    "plt.legend(bbox_to_anchor = [1,1,0,0]);"
   ]
  },
  {
   "cell_type": "code",
   "execution_count": 15,
   "metadata": {
    "colab": {
     "base_uri": "https://localhost:8080/",
     "height": 449
    },
    "id": "ieWZxuExhtNJ",
    "outputId": "2c1d0b9a-d03d-461d-d40a-3553e7c1461a"
   },
   "outputs": [
    {
     "data": {
      "image/png": "[encoded data removed]",
      "text/plain": [
       "<Figure size 640x480 with 1 Axes>"
      ]
     },
     "metadata": {},
     "output_type": "display_data"
    }
   ],
   "source": [
    "sns.countplot(data=data, x='damage');"
   ]
  },
  {
   "cell_type": "code",
   "execution_count": 16,
   "metadata": {
    "colab": {
     "base_uri": "https://localhost:8080/",
     "height": 449
    },
    "id": "BgJuw5NhiOh-",
    "outputId": "96c5d533-d425-4033-a985-e6202307b625"
   },
   "outputs": [
    {
     "data": {
      "image/png": "[encoded data removed]",
      "text/plain": [
       "<Figure size 640x480 with 1 Axes>"
      ]
     },
     "metadata": {},
     "output_type": "display_data"
    }
   ],
   "source": [
    "sns.countplot(data=data, x='season');"
   ]
  },
  {
   "cell_type": "code",
   "execution_count": 17,
   "metadata": {
    "colab": {
     "base_uri": "https://localhost:8080/",
     "height": 449
    },
    "id": "-OItlLZ_khAW",
    "outputId": "5519f58b-af81-4b55-9874-91fbbadcc358"
   },
   "outputs": [
    {
     "data": {
      "image/png": "[encoded data removed]",
      "text/plain": [
       "<Figure size 640x480 with 1 Axes>"
      ]
     },
     "metadata": {},
     "output_type": "display_data"
    }
   ],
   "source": [
    "sns.lineplot(data=data, x='season', y='extent');"
   ]
  },
  {
   "cell_type": "code",
   "execution_count": 18,
   "metadata": {
    "colab": {
     "base_uri": "https://localhost:8080/",
     "height": 449
    },
    "id": "tK8j_E5Mkwlq",
    "outputId": "f6166b33-b971-4000-e0eb-0297ca4f0252"
   },
   "outputs": [
    {
     "data": {
      "image/png": "[encoded data removed]",
      "text/plain": [
       "<Figure size 640x480 with 1 Axes>"
      ]
     },
     "metadata": {},
     "output_type": "display_data"
    }
   ],
   "source": [
    "sns.barplot(data=data, x='season', y='extent');"
   ]
  },
  {
   "cell_type": "code",
   "execution_count": 19,
   "metadata": {
    "colab": {
     "base_uri": "https://localhost:8080/",
     "height": 450
    },
    "id": "T7wGVYX0k_O2",
    "outputId": "483fca78-99b7-4b86-9f08-3da8f746e81d"
   },
   "outputs": [
    {
     "data": {
      "image/png": "[encoded data removed]",
      "text/plain": [
       "<Figure size 640x480 with 1 Axes>"
      ]
     },
     "metadata": {},
     "output_type": "display_data"
    }
   ],
   "source": [
    "sns.violinplot(data=data, x='growth_stage', y='extent');"
   ]
  },
  {
   "cell_type": "code",
   "execution_count": 20,
   "metadata": {
    "colab": {
     "base_uri": "https://localhost:8080/"
    },
    "id": "6xySV9WEqQmx",
    "outputId": "4ecae84c-0774-4869-c5bd-74ce55f69079"
   },
   "outputs": [
    {
     "data": {
      "text/plain": [
       "Index(['ID', 'filename', 'growth_stage', 'damage', 'extent', 'season'], dtype='object')"
      ]
     },
     "execution_count": 20,
     "metadata": {},
     "output_type": "execute_result"
    }
   ],
   "source": [
    "data.columns"
   ]
  },
  {
   "cell_type": "code",
   "execution_count": 21,
   "metadata": {
    "id": "JlAdqmJ-qTRZ"
   },
   "outputs": [],
   "source": [
    "data =data.drop(['ID','filename'], axis=1)"
   ]
  },
  {
   "cell_type": "code",
   "execution_count": 22,
   "metadata": {
    "id": "rxFx94Trqhoz"
   },
   "outputs": [],
   "source": [
    "categorical_columns = data.select_dtypes(include=['object']).columns.tolist()"
   ]
  },
  {
   "cell_type": "code",
   "execution_count": 23,
   "metadata": {
    "colab": {
     "base_uri": "https://localhost:8080/"
    },
    "id": "H4oy0btWrbYx",
    "outputId": "4ca64188-5716-471b-cfca-353c2e854f47"
   },
   "outputs": [
    {
     "data": {
      "text/plain": [
       "['growth_stage', 'damage', 'season']"
      ]
     },
     "execution_count": 23,
     "metadata": {},
     "output_type": "execute_result"
    }
   ],
   "source": [
    "categorical_columns"
   ]
  },
  {
   "cell_type": "code",
   "execution_count": 24,
   "metadata": {
    "id": "gr-HPydLpyG5"
   },
   "outputs": [],
   "source": [
    "df = pd.get_dummies(data, columns=categorical_columns, drop_first=True)"
   ]
  },
  {
   "cell_type": "code",
   "execution_count": 25,
   "metadata": {
    "colab": {
     "base_uri": "https://localhost:8080/",
     "height": 256
    },
    "id": "Z4KRkNHLrmB5",
    "outputId": "236cf58a-0e01-4d99-f97b-7579191a9541"
   },
   "outputs": [
    {
     "data": {
      "text/html": [
       "<div>\n",
       "<style scoped>\n",
       "    .dataframe tbody tr th:only-of-type {\n",
       "        vertical-align: middle;\n",
       "    }\n",
       "\n",
       "    .dataframe tbody tr th {\n",
       "        vertical-align: top;\n",
       "    }\n",
       "\n",
       "    .dataframe thead th {\n",
       "        text-align: right;\n",
       "    }\n",
       "</style>\n",
       "<table border=\"1\" class=\"dataframe\">\n",
       "  <thead>\n",
       "    <tr style=\"text-align: right;\">\n",
       "      <th></th>\n",
       "      <th>extent</th>\n",
       "      <th>growth_stage_M</th>\n",
       "      <th>growth_stage_S</th>\n",
       "      <th>growth_stage_V</th>\n",
       "      <th>damage_DS</th>\n",
       "      <th>damage_FD</th>\n",
       "      <th>damage_G</th>\n",
       "      <th>damage_ND</th>\n",
       "      <th>damage_PS</th>\n",
       "      <th>damage_WD</th>\n",
       "      <th>damage_WN</th>\n",
       "      <th>season_LR2021</th>\n",
       "      <th>season_SR2020</th>\n",
       "      <th>season_SR2021</th>\n",
       "    </tr>\n",
       "  </thead>\n",
       "  <tbody>\n",
       "    <tr>\n",
       "      <th>0</th>\n",
       "      <td>0</td>\n",
       "      <td>0</td>\n",
       "      <td>1</td>\n",
       "      <td>0</td>\n",
       "      <td>0</td>\n",
       "      <td>0</td>\n",
       "      <td>0</td>\n",
       "      <td>0</td>\n",
       "      <td>0</td>\n",
       "      <td>1</td>\n",
       "      <td>0</td>\n",
       "      <td>0</td>\n",
       "      <td>1</td>\n",
       "      <td>0</td>\n",
       "    </tr>\n",
       "    <tr>\n",
       "      <th>1</th>\n",
       "      <td>0</td>\n",
       "      <td>0</td>\n",
       "      <td>0</td>\n",
       "      <td>1</td>\n",
       "      <td>0</td>\n",
       "      <td>0</td>\n",
       "      <td>1</td>\n",
       "      <td>0</td>\n",
       "      <td>0</td>\n",
       "      <td>0</td>\n",
       "      <td>0</td>\n",
       "      <td>0</td>\n",
       "      <td>0</td>\n",
       "      <td>1</td>\n",
       "    </tr>\n",
       "    <tr>\n",
       "      <th>2</th>\n",
       "      <td>0</td>\n",
       "      <td>0</td>\n",
       "      <td>0</td>\n",
       "      <td>1</td>\n",
       "      <td>0</td>\n",
       "      <td>0</td>\n",
       "      <td>1</td>\n",
       "      <td>0</td>\n",
       "      <td>0</td>\n",
       "      <td>0</td>\n",
       "      <td>0</td>\n",
       "      <td>0</td>\n",
       "      <td>0</td>\n",
       "      <td>0</td>\n",
       "    </tr>\n",
       "    <tr>\n",
       "      <th>3</th>\n",
       "      <td>60</td>\n",
       "      <td>1</td>\n",
       "      <td>0</td>\n",
       "      <td>0</td>\n",
       "      <td>0</td>\n",
       "      <td>0</td>\n",
       "      <td>0</td>\n",
       "      <td>0</td>\n",
       "      <td>0</td>\n",
       "      <td>0</td>\n",
       "      <td>0</td>\n",
       "      <td>0</td>\n",
       "      <td>1</td>\n",
       "      <td>0</td>\n",
       "    </tr>\n",
       "    <tr>\n",
       "      <th>4</th>\n",
       "      <td>0</td>\n",
       "      <td>0</td>\n",
       "      <td>0</td>\n",
       "      <td>1</td>\n",
       "      <td>0</td>\n",
       "      <td>0</td>\n",
       "      <td>1</td>\n",
       "      <td>0</td>\n",
       "      <td>0</td>\n",
       "      <td>0</td>\n",
       "      <td>0</td>\n",
       "      <td>0</td>\n",
       "      <td>0</td>\n",
       "      <td>1</td>\n",
       "    </tr>\n",
       "  </tbody>\n",
       "</table>\n",
       "</div>"
      ],
      "text/plain": [
       "   extent  growth_stage_M  growth_stage_S  growth_stage_V  damage_DS  \\\n",
       "0       0               0               1               0          0   \n",
       "1       0               0               0               1          0   \n",
       "2       0               0               0               1          0   \n",
       "3      60               1               0               0          0   \n",
       "4       0               0               0               1          0   \n",
       "\n",
       "   damage_FD  damage_G  damage_ND  damage_PS  damage_WD  damage_WN  \\\n",
       "0          0         0          0          0          1          0   \n",
       "1          0         1          0          0          0          0   \n",
       "2          0         1          0          0          0          0   \n",
       "3          0         0          0          0          0          0   \n",
       "4          0         1          0          0          0          0   \n",
       "\n",
       "   season_LR2021  season_SR2020  season_SR2021  \n",
       "0              0              1              0  \n",
       "1              0              0              1  \n",
       "2              0              0              0  \n",
       "3              0              1              0  \n",
       "4              0              0              1  "
      ]
     },
     "execution_count": 25,
     "metadata": {},
     "output_type": "execute_result"
    }
   ],
   "source": [
    "df.head()"
   ]
  },
  {
   "cell_type": "code",
   "execution_count": 26,
   "metadata": {
    "id": "eBQsLjg8nDIe"
   },
   "outputs": [],
   "source": [
    "from sklearn.model_selection import train_test_split, GridSearchCV\n",
    "import xgboost as xgb\n",
    "from sklearn.metrics import r2_score, mean_squared_error\n",
    "from sklearn.linear_model import LinearRegression\n",
    "from sklearn.ensemble import RandomForestRegressor\n",
    "from sklearn.ensemble import GradientBoostingRegressor, AdaBoostRegressor\n",
    "from sklearn.tree import DecisionTreeRegressor\n",
    "from sklearn.svm import SVR"
   ]
  },
  {
   "cell_type": "code",
   "execution_count": 27,
   "metadata": {
    "id": "Xp1qOZHbpYMk"
   },
   "outputs": [],
   "source": [
    "# Create the feature matrix 'X' by dropping the 'wickets' column from 'new_df'\n",
    "X = df.drop('extent', axis=1)"
   ]
  },
  {
   "cell_type": "code",
   "execution_count": 28,
   "metadata": {
    "id": "pNaU6IH6r98j"
   },
   "outputs": [],
   "source": [
    "y = df['extent']"
   ]
  },
  {
   "cell_type": "code",
   "execution_count": 29,
   "metadata": {
    "id": "bJFUxbyAsJbS"
   },
   "outputs": [],
   "source": [
    "# Split the data into training and testing sets\n",
    "# X_train and y_train will be used for training the model\n",
    "# X_test and y_test will be used for evaluating the model\n",
    "X_train, X_test, y_train, y_test = train_test_split(X, y, test_size=0.2, random_state=42)"
   ]
  },
  {
   "cell_type": "code",
   "execution_count": 31,
   "metadata": {
    "id": "q8q2Y4ZoBSLL"
   },
   "outputs": [
    {
     "name": "stderr",
     "output_type": "stream",
     "text": [
      "C:\\Users\\user\\anaconda3\\lib\\site-packages\\statsmodels\\base\\model.py:604: ConvergenceWarning: Maximum Likelihood optimization failed to converge. Check mle_retvals\n",
      "  warnings.warn(\"Maximum Likelihood optimization failed to \"\n"
     ]
    },
    {
     "name": "stdout",
     "output_type": "stream",
     "text": [
      "Warning: Maximum number of iterations has been exceeded.\n",
      "         Current function value: 3.149847\n",
      "         Iterations: 35\n",
      "         Function evaluations: 45\n",
      "         Gradient evaluations: 45\n"
     ]
    },
    {
     "name": "stderr",
     "output_type": "stream",
     "text": [
      "C:\\Users\\user\\anaconda3\\lib\\site-packages\\statsmodels\\base\\model.py:592: HessianInversionWarning: Inverting hessian failed, no bse or cov_params available\n",
      "  warnings.warn('Inverting hessian failed, no bse or cov_params '\n",
      "C:\\Users\\user\\anaconda3\\lib\\site-packages\\statsmodels\\base\\model.py:604: ConvergenceWarning: Maximum Likelihood optimization failed to converge. Check mle_retvals\n",
      "  warnings.warn(\"Maximum Likelihood optimization failed to \"\n"
     ]
    },
    {
     "name": "stdout",
     "output_type": "stream",
     "text": [
      "                     ZeroInflatedPoisson Regression Results                    \n",
      "===============================================================================\n",
      "Dep. Variable:                  extent   No. Observations:                20854\n",
      "Model:             ZeroInflatedPoisson   Df Residuals:                    20841\n",
      "Method:                            MLE   Df Model:                           12\n",
      "Date:                 Fri, 03 Nov 2023   Pseudo R-squ.:                 -0.4289\n",
      "Time:                         02:28:43   Log-Likelihood:                -65687.\n",
      "converged:                       False   LL-Null:                       -45971.\n",
      "Covariance Type:             nonrobust   LLR p-value:                     1.000\n",
      "==================================================================================\n",
      "                     coef    std err          z      P>|z|      [0.025      0.975]\n",
      "----------------------------------------------------------------------------------\n",
      "inflate_const     -2.0276        nan        nan        nan         nan         nan\n",
      "growth_stage_M     1.1646        nan        nan        nan         nan         nan\n",
      "growth_stage_S     1.2155        nan        nan        nan         nan         nan\n",
      "growth_stage_V     0.9943        nan        nan        nan         nan         nan\n",
      "damage_DS         -1.3279        nan        nan        nan         nan         nan\n",
      "damage_FD          0.0002        nan        nan        nan         nan         nan\n",
      "damage_G         -19.2824        nan        nan        nan         nan         nan\n",
      "damage_ND         -1.1936        nan        nan        nan         nan         nan\n",
      "damage_PS         -0.6520        nan        nan        nan         nan         nan\n",
      "damage_WD        -11.8890        nan        nan        nan         nan         nan\n",
      "damage_WN      -6.441e-05        nan        nan        nan         nan         nan\n",
      "season_LR2021      2.6603        nan        nan        nan         nan         nan\n",
      "season_SR2020      2.8512        nan        nan        nan         nan         nan\n",
      "season_SR2021      2.6229        nan        nan        nan         nan         nan\n",
      "==================================================================================\n",
      "Mean Squared Error (MSE): 1.5631000562535477e+41\n",
      "R-squared (R2) Score: -4.307761022594502e+38\n"
     ]
    }
   ],
   "source": [
    "import statsmodels.api as sm\n",
    "\n",
    "\n",
    "# Fit a Zero-Inflated Poisson (ZIP) regression model\n",
    "zip_model = sm.ZeroInflatedPoisson(y_train, X_train).fit()\n",
    "\n",
    "# Print the model summary\n",
    "print(zip_model.summary())\n",
    "\n",
    "# Make predictions\n",
    "y_pred = zip_model.predict(X_test)\n",
    "\n",
    "# Inverse-transform the predictions to get the final results\n",
    "y_pred = np.expm1(y_pred)\n",
    "\n",
    "# Evaluate the model's performance\n",
    "mse = mean_squared_error(y_test, y_pred)\n",
    "r2 = r2_score(y_test, y_pred)\n",
    "\n",
    "print(\"Mean Squared Error (MSE):\", mse)\n",
    "print(\"R-squared (R2) Score:\", r2)"
   ]
  },
  {
   "cell_type": "code",
   "execution_count": 92,
   "metadata": {},
   "outputs": [],
   "source": [
    "# Linear Regression\n",
    "linear_reg = LinearRegression()\n",
    "linear_reg.fit(X_train, y_train)\n",
    "linear_reg_predictions = linear_reg.predict(X_test)"
   ]
  },
  {
   "cell_type": "code",
   "execution_count": 108,
   "metadata": {},
   "outputs": [],
   "source": [
    "# XGBoost Regressor\n",
    "xgb_regressor = xgb.XGBRegressor()\n",
    "xgb_regressor.fit(X_train, y_train)\n",
    "xgb_predictions = xgb_regressor.predict(X_test)"
   ]
  },
  {
   "cell_type": "code",
   "execution_count": 109,
   "metadata": {},
   "outputs": [],
   "source": [
    "# Gradient Boosting Regressor\n",
    "gb_regressor = GradientBoostingRegressor()\n",
    "gb_regressor.fit(X_train, y_train)\n",
    "gb_predictions = gb_regressor.predict(X_test)"
   ]
  },
  {
   "cell_type": "code",
   "execution_count": 110,
   "metadata": {},
   "outputs": [],
   "source": [
    "# AdaBoost Regressor\n",
    "adaboost_regressor = AdaBoostRegressor(base_estimator=DecisionTreeRegressor(max_depth=4), n_estimators=100, learning_rate=0.1)\n",
    "adaboost_regressor.fit(X_train, y_train)\n",
    "adaboost_predictions = adaboost_regressor.predict(X_test)"
   ]
  },
  {
   "cell_type": "code",
   "execution_count": 111,
   "metadata": {},
   "outputs": [],
   "source": [
    "# Decision Tree Regressor\n",
    "dt_regressor = DecisionTreeRegressor()\n",
    "dt_regressor.fit(X_train, y_train)\n",
    "dt_predictions = dt_regressor.predict(X_test)"
   ]
  },
  {
   "cell_type": "code",
   "execution_count": 112,
   "metadata": {},
   "outputs": [],
   "source": [
    "# Evaluate the models\n",
    "linear_reg_r2 = r2_score(y_test, linear_reg_predictions)\n",
    "xgb_r2 = r2_score(y_test, xgb_predictions)\n",
    "gb_r2 = r2_score(y_test, gb_predictions)\n",
    "adaboost_r2 = r2_score(y_test, adaboost_predictions)\n",
    "dt_r2 = r2_score(y_test, dt_predictions)"
   ]
  },
  {
   "cell_type": "code",
   "execution_count": 113,
   "metadata": {
    "id": "DJg5Fd7aBX7Q"
   },
   "outputs": [
    {
     "name": "stdout",
     "output_type": "stream",
     "text": [
      "Linear Regression R^2 Score: 0.706818182403802\n",
      "XGBoost R^2 Score: 0.7401403554495007\n",
      "Gradient Boosting R^2 Score: 0.7272907475978624\n",
      "AdaBoost R^2 Score: 0.6645561228016322\n",
      "Decision Tree R^2 Score: 0.7395727679460501\n"
     ]
    }
   ],
   "source": [
    "print(\"Linear Regression R^2 Score:\", linear_reg_r2)\n",
    "print(\"XGBoost R^2 Score:\", xgb_r2)\n",
    "print(\"Gradient Boosting R^2 Score:\", gb_r2)\n",
    "print(\"AdaBoost R^2 Score:\", adaboost_r2)\n",
    "print(\"Decision Tree R^2 Score:\", dt_r2)"
   ]
  },
  {
   "cell_type": "code",
   "execution_count": 114,
   "metadata": {
    "colab": {
     "base_uri": "https://localhost:8080/"
    },
    "id": "JrfRIIk6Bdzh",
    "outputId": "1a1cb46f-660c-4cd6-8853-a9baef3cf9d9"
   },
   "outputs": [],
   "source": [
    "from sklearn.metrics import mean_squared_error\n",
    "import numpy as np\n",
    "\n",
    "# Calculate RMSE for each model\n",
    "linear_reg_rmse = np.sqrt(mean_squared_error(y_test, linear_reg_predictions))\n",
    "xgb_rmse = np.sqrt(mean_squared_error(y_test, xgb_predictions))\n",
    "gb_rmse = np.sqrt(mean_squared_error(y_test, gb_predictions))\n",
    "adaboost_rmse = np.sqrt(mean_squared_error(y_test, adaboost_predictions))\n",
    "dt_rmse = np.sqrt(mean_squared_error(y_test, dt_predictions))"
   ]
  },
  {
   "cell_type": "code",
   "execution_count": 115,
   "metadata": {},
   "outputs": [
    {
     "name": "stdout",
     "output_type": "stream",
     "text": [
      "Linear Regression RMSE: 10.314213209416819\n",
      "XGBoost RMSE: 9.710397497107715\n",
      "Gradient Boosting RMSE: 9.947581925923538\n",
      "AdaBoost RMSE: 11.032591112858368\n",
      "Decision Tree RMSE: 9.720996476412516\n"
     ]
    }
   ],
   "source": [
    "print(\"Linear Regression RMSE:\", linear_reg_rmse)\n",
    "print(\"XGBoost RMSE:\", xgb_rmse)\n",
    "print(\"Gradient Boosting RMSE:\", gb_rmse)\n",
    "print(\"AdaBoost RMSE:\", adaboost_rmse)\n",
    "print(\"Decision Tree RMSE:\", dt_rmse)"
   ]
  },
  {
   "cell_type": "code",
   "execution_count": 116,
   "metadata": {},
   "outputs": [],
   "source": [
    "df_pred = pd.DataFrame({'y_true':y_test, 'Linear Regression': linear_reg_predictions,\n",
    "                   'XGBoost': xgb_predictions, 'Gradient Boosting': gb_predictions, 'AdaBoost': adaboost_predictions,\n",
    "                   'Decision Tree': dt_predictions})"
   ]
  },
  {
   "cell_type": "code",
   "execution_count": 117,
   "metadata": {},
   "outputs": [
    {
     "data": {
      "text/html": [
       "<div>\n",
       "<style scoped>\n",
       "    .dataframe tbody tr th:only-of-type {\n",
       "        vertical-align: middle;\n",
       "    }\n",
       "\n",
       "    .dataframe tbody tr th {\n",
       "        vertical-align: top;\n",
       "    }\n",
       "\n",
       "    .dataframe thead th {\n",
       "        text-align: right;\n",
       "    }\n",
       "</style>\n",
       "<table border=\"1\" class=\"dataframe\">\n",
       "  <thead>\n",
       "    <tr style=\"text-align: right;\">\n",
       "      <th></th>\n",
       "      <th>y_true</th>\n",
       "      <th>Linear Regression</th>\n",
       "      <th>XGBoost</th>\n",
       "      <th>Gradient Boosting</th>\n",
       "      <th>AdaBoost</th>\n",
       "      <th>Decision Tree</th>\n",
       "    </tr>\n",
       "  </thead>\n",
       "  <tbody>\n",
       "    <tr>\n",
       "      <th>1441</th>\n",
       "      <td>30</td>\n",
       "      <td>40.665771</td>\n",
       "      <td>36.093765</td>\n",
       "      <td>39.705558</td>\n",
       "      <td>44.724499</td>\n",
       "      <td>36.090134</td>\n",
       "    </tr>\n",
       "    <tr>\n",
       "      <th>2464</th>\n",
       "      <td>0</td>\n",
       "      <td>-0.938201</td>\n",
       "      <td>0.000330</td>\n",
       "      <td>0.207201</td>\n",
       "      <td>0.000000</td>\n",
       "      <td>0.000000</td>\n",
       "    </tr>\n",
       "    <tr>\n",
       "      <th>3023</th>\n",
       "      <td>0</td>\n",
       "      <td>-1.917982</td>\n",
       "      <td>0.000753</td>\n",
       "      <td>0.128974</td>\n",
       "      <td>0.000000</td>\n",
       "      <td>0.000000</td>\n",
       "    </tr>\n",
       "    <tr>\n",
       "      <th>22605</th>\n",
       "      <td>0</td>\n",
       "      <td>-0.803846</td>\n",
       "      <td>0.001257</td>\n",
       "      <td>0.305245</td>\n",
       "      <td>0.000000</td>\n",
       "      <td>0.000000</td>\n",
       "    </tr>\n",
       "    <tr>\n",
       "      <th>25163</th>\n",
       "      <td>0</td>\n",
       "      <td>-0.169716</td>\n",
       "      <td>0.000476</td>\n",
       "      <td>0.128974</td>\n",
       "      <td>0.000000</td>\n",
       "      <td>0.000000</td>\n",
       "    </tr>\n",
       "  </tbody>\n",
       "</table>\n",
       "</div>"
      ],
      "text/plain": [
       "       y_true  Linear Regression    XGBoost  Gradient Boosting   AdaBoost  \\\n",
       "1441       30          40.665771  36.093765          39.705558  44.724499   \n",
       "2464        0          -0.938201   0.000330           0.207201   0.000000   \n",
       "3023        0          -1.917982   0.000753           0.128974   0.000000   \n",
       "22605       0          -0.803846   0.001257           0.305245   0.000000   \n",
       "25163       0          -0.169716   0.000476           0.128974   0.000000   \n",
       "\n",
       "       Decision Tree  \n",
       "1441       36.090134  \n",
       "2464        0.000000  \n",
       "3023        0.000000  \n",
       "22605       0.000000  \n",
       "25163       0.000000  "
      ]
     },
     "execution_count": 117,
     "metadata": {},
     "output_type": "execute_result"
    }
   ],
   "source": [
    "df_pred.head()"
   ]
  },
  {
   "cell_type": "code",
   "execution_count": 118,
   "metadata": {},
   "outputs": [
    {
     "data": {
      "text/html": [
       "<div>\n",
       "<style scoped>\n",
       "    .dataframe tbody tr th:only-of-type {\n",
       "        vertical-align: middle;\n",
       "    }\n",
       "\n",
       "    .dataframe tbody tr th {\n",
       "        vertical-align: top;\n",
       "    }\n",
       "\n",
       "    .dataframe thead th {\n",
       "        text-align: right;\n",
       "    }\n",
       "</style>\n",
       "<table border=\"1\" class=\"dataframe\">\n",
       "  <thead>\n",
       "    <tr style=\"text-align: right;\">\n",
       "      <th></th>\n",
       "      <th>y_true</th>\n",
       "      <th>Linear Regression</th>\n",
       "      <th>XGBoost</th>\n",
       "      <th>Gradient Boosting</th>\n",
       "      <th>AdaBoost</th>\n",
       "      <th>Decision Tree</th>\n",
       "    </tr>\n",
       "  </thead>\n",
       "  <tbody>\n",
       "    <tr>\n",
       "      <th>2464</th>\n",
       "      <td>0</td>\n",
       "      <td>-0.938201</td>\n",
       "      <td>0.000330</td>\n",
       "      <td>0.207201</td>\n",
       "      <td>0.0</td>\n",
       "      <td>0.0</td>\n",
       "    </tr>\n",
       "    <tr>\n",
       "      <th>3023</th>\n",
       "      <td>0</td>\n",
       "      <td>-1.917982</td>\n",
       "      <td>0.000753</td>\n",
       "      <td>0.128974</td>\n",
       "      <td>0.0</td>\n",
       "      <td>0.0</td>\n",
       "    </tr>\n",
       "    <tr>\n",
       "      <th>22605</th>\n",
       "      <td>0</td>\n",
       "      <td>-0.803846</td>\n",
       "      <td>0.001257</td>\n",
       "      <td>0.305245</td>\n",
       "      <td>0.0</td>\n",
       "      <td>0.0</td>\n",
       "    </tr>\n",
       "    <tr>\n",
       "      <th>25163</th>\n",
       "      <td>0</td>\n",
       "      <td>-0.169716</td>\n",
       "      <td>0.000476</td>\n",
       "      <td>0.128974</td>\n",
       "      <td>0.0</td>\n",
       "      <td>0.0</td>\n",
       "    </tr>\n",
       "    <tr>\n",
       "      <th>1045</th>\n",
       "      <td>0</td>\n",
       "      <td>1.985612</td>\n",
       "      <td>0.030574</td>\n",
       "      <td>-1.018483</td>\n",
       "      <td>0.0</td>\n",
       "      <td>0.0</td>\n",
       "    </tr>\n",
       "    <tr>\n",
       "      <th>...</th>\n",
       "      <td>...</td>\n",
       "      <td>...</td>\n",
       "      <td>...</td>\n",
       "      <td>...</td>\n",
       "      <td>...</td>\n",
       "      <td>...</td>\n",
       "    </tr>\n",
       "    <tr>\n",
       "      <th>9710</th>\n",
       "      <td>0</td>\n",
       "      <td>2.334403</td>\n",
       "      <td>0.000705</td>\n",
       "      <td>-0.169045</td>\n",
       "      <td>0.0</td>\n",
       "      <td>0.0</td>\n",
       "    </tr>\n",
       "    <tr>\n",
       "      <th>4010</th>\n",
       "      <td>0</td>\n",
       "      <td>0.668277</td>\n",
       "      <td>-0.001828</td>\n",
       "      <td>-1.018483</td>\n",
       "      <td>0.0</td>\n",
       "      <td>0.0</td>\n",
       "    </tr>\n",
       "    <tr>\n",
       "      <th>13709</th>\n",
       "      <td>0</td>\n",
       "      <td>-2.194415</td>\n",
       "      <td>0.000631</td>\n",
       "      <td>0.207201</td>\n",
       "      <td>0.0</td>\n",
       "      <td>0.0</td>\n",
       "    </tr>\n",
       "    <tr>\n",
       "      <th>12188</th>\n",
       "      <td>0</td>\n",
       "      <td>-1.080279</td>\n",
       "      <td>0.000929</td>\n",
       "      <td>0.243130</td>\n",
       "      <td>0.0</td>\n",
       "      <td>0.0</td>\n",
       "    </tr>\n",
       "    <tr>\n",
       "      <th>7172</th>\n",
       "      <td>0</td>\n",
       "      <td>-0.169716</td>\n",
       "      <td>0.000476</td>\n",
       "      <td>0.128974</td>\n",
       "      <td>0.0</td>\n",
       "      <td>0.0</td>\n",
       "    </tr>\n",
       "  </tbody>\n",
       "</table>\n",
       "<p>4275 rows × 6 columns</p>\n",
       "</div>"
      ],
      "text/plain": [
       "       y_true  Linear Regression   XGBoost  Gradient Boosting  AdaBoost  \\\n",
       "2464        0          -0.938201  0.000330           0.207201       0.0   \n",
       "3023        0          -1.917982  0.000753           0.128974       0.0   \n",
       "22605       0          -0.803846  0.001257           0.305245       0.0   \n",
       "25163       0          -0.169716  0.000476           0.128974       0.0   \n",
       "1045        0           1.985612  0.030574          -1.018483       0.0   \n",
       "...       ...                ...       ...                ...       ...   \n",
       "9710        0           2.334403  0.000705          -0.169045       0.0   \n",
       "4010        0           0.668277 -0.001828          -1.018483       0.0   \n",
       "13709       0          -2.194415  0.000631           0.207201       0.0   \n",
       "12188       0          -1.080279  0.000929           0.243130       0.0   \n",
       "7172        0          -0.169716  0.000476           0.128974       0.0   \n",
       "\n",
       "       Decision Tree  \n",
       "2464             0.0  \n",
       "3023             0.0  \n",
       "22605            0.0  \n",
       "25163            0.0  \n",
       "1045             0.0  \n",
       "...              ...  \n",
       "9710             0.0  \n",
       "4010             0.0  \n",
       "13709            0.0  \n",
       "12188            0.0  \n",
       "7172             0.0  \n",
       "\n",
       "[4275 rows x 6 columns]"
      ]
     },
     "execution_count": 118,
     "metadata": {},
     "output_type": "execute_result"
    }
   ],
   "source": [
    "df_pred[df_pred['y_true'] == 0]"
   ]
  },
  {
   "cell_type": "code",
   "execution_count": null,
   "metadata": {},
   "outputs": [],
   "source": []
  },
  {
   "cell_type": "code",
   "execution_count": 119,
   "metadata": {
    "id": "rmeYBTAYso2G"
   },
   "outputs": [],
   "source": [
    "test_data = pd.read_csv('Test.csv')\n",
    "test_df = pd.get_dummies(test_data.drop(['ID','filename'],axis=1), drop_first=True)"
   ]
  },
  {
   "cell_type": "code",
   "execution_count": 120,
   "metadata": {},
   "outputs": [],
   "source": [
    "linear_reg_pred = linear_reg.predict(test_df)\n",
    "xgb_pred = xgb_regressor.predict(test_df)\n",
    "gb_pred = gb_regressor.predict(test_df)"
   ]
  },
  {
   "cell_type": "code",
   "execution_count": 121,
   "metadata": {},
   "outputs": [],
   "source": [
    "test_pred = pd.DataFrame({'Linear Regression': linear_reg_pred,\n",
    "                   'XGBoost':np.round(xgb_pred), 'Gradient Boosting':gb_pred})"
   ]
  },
  {
   "cell_type": "code",
   "execution_count": 122,
   "metadata": {},
   "outputs": [],
   "source": [
    "test_pred[test_pred < 0] = 0"
   ]
  },
  {
   "cell_type": "code",
   "execution_count": 123,
   "metadata": {},
   "outputs": [],
   "source": [
    "final = pd.DataFrame({'ID': test_data['ID'], 'extent':test_pred['XGBoost']})"
   ]
  },
  {
   "cell_type": "code",
   "execution_count": 125,
   "metadata": {},
   "outputs": [
    {
     "data": {
      "text/plain": [
       "ID        0\n",
       "extent    0\n",
       "dtype: int64"
      ]
     },
     "execution_count": 125,
     "metadata": {},
     "output_type": "execute_result"
    }
   ],
   "source": [
    "final.isnull().sum()"
   ]
  },
  {
   "cell_type": "code",
   "execution_count": 126,
   "metadata": {},
   "outputs": [],
   "source": [
    "final.to_csv('final1', index = False)"
   ]
  },
  {
   "cell_type": "code",
   "execution_count": 69,
   "metadata": {
    "colab": {
     "base_uri": "https://localhost:8080/"
    },
    "id": "0KJPezgBvzOZ",
    "outputId": "611e20dd-e2ae-470f-8d2f-958770b30a9b"
   },
   "outputs": [
    {
     "name": "stdout",
     "output_type": "stream",
     "text": [
      "Epoch 1/60\n",
      "522/522 [==============================] - 8s 3ms/step - loss: 184.5710 - mae: 5.8105 - val_loss: 103.5453 - val_mae: 4.2363\n",
      "Epoch 2/60\n",
      "522/522 [==============================] - 1s 2ms/step - loss: 95.7077 - mae: 3.7875 - val_loss: 100.1434 - val_mae: 3.7510\n",
      "Epoch 3/60\n",
      "522/522 [==============================] - 1s 2ms/step - loss: 93.3404 - mae: 3.5560 - val_loss: 97.5373 - val_mae: 3.6730\n",
      "Epoch 4/60\n",
      "522/522 [==============================] - 1s 2ms/step - loss: 92.5247 - mae: 3.4915 - val_loss: 98.1440 - val_mae: 3.6536\n",
      "Epoch 5/60\n",
      "522/522 [==============================] - 1s 2ms/step - loss: 91.8814 - mae: 3.4767 - val_loss: 98.6001 - val_mae: 3.6980\n",
      "Epoch 6/60\n",
      "522/522 [==============================] - 1s 2ms/step - loss: 91.7391 - mae: 3.4901 - val_loss: 96.4206 - val_mae: 3.6008\n",
      "Epoch 7/60\n",
      "522/522 [==============================] - 1s 2ms/step - loss: 91.4432 - mae: 3.4757 - val_loss: 97.4685 - val_mae: 3.5008\n",
      "Epoch 8/60\n",
      "522/522 [==============================] - 1s 2ms/step - loss: 91.3796 - mae: 3.4796 - val_loss: 96.1946 - val_mae: 3.4681\n",
      "Epoch 9/60\n",
      "522/522 [==============================] - 1s 2ms/step - loss: 90.9747 - mae: 3.4406 - val_loss: 97.0254 - val_mae: 3.4574\n",
      "Epoch 10/60\n",
      "522/522 [==============================] - 1s 2ms/step - loss: 91.0004 - mae: 3.4298 - val_loss: 96.0961 - val_mae: 3.3965\n",
      "Epoch 11/60\n",
      "522/522 [==============================] - 1s 2ms/step - loss: 90.8216 - mae: 3.4249 - val_loss: 99.8142 - val_mae: 3.5730\n",
      "Epoch 12/60\n",
      "522/522 [==============================] - 1s 2ms/step - loss: 90.9874 - mae: 3.4235 - val_loss: 95.9619 - val_mae: 3.5707\n",
      "Epoch 13/60\n",
      "522/522 [==============================] - 1s 2ms/step - loss: 90.8027 - mae: 3.3990 - val_loss: 96.0685 - val_mae: 3.4373\n",
      "Epoch 14/60\n",
      "522/522 [==============================] - 1s 2ms/step - loss: 90.7104 - mae: 3.3800 - val_loss: 96.5230 - val_mae: 3.6461\n",
      "Epoch 15/60\n",
      "522/522 [==============================] - 1s 2ms/step - loss: 90.4717 - mae: 3.3693 - val_loss: 97.5678 - val_mae: 3.4971\n",
      "Epoch 16/60\n",
      "522/522 [==============================] - 1s 3ms/step - loss: 90.5503 - mae: 3.3817 - val_loss: 97.4163 - val_mae: 3.5091\n",
      "Epoch 17/60\n",
      "522/522 [==============================] - 1s 3ms/step - loss: 90.4722 - mae: 3.3580 - val_loss: 95.9686 - val_mae: 3.3955\n",
      "Epoch 18/60\n",
      "522/522 [==============================] - 1s 3ms/step - loss: 90.5005 - mae: 3.3579 - val_loss: 96.5647 - val_mae: 3.5626\n",
      "Epoch 19/60\n",
      "522/522 [==============================] - 1s 3ms/step - loss: 90.3239 - mae: 3.3704 - val_loss: 96.9223 - val_mae: 3.3854\n",
      "Epoch 20/60\n",
      "522/522 [==============================] - 1s 3ms/step - loss: 90.6113 - mae: 3.3314 - val_loss: 96.6670 - val_mae: 3.5158\n",
      "Epoch 21/60\n",
      "522/522 [==============================] - 2s 3ms/step - loss: 90.6544 - mae: 3.3373 - val_loss: 96.9578 - val_mae: 3.5217\n",
      "Epoch 22/60\n",
      "522/522 [==============================] - 1s 3ms/step - loss: 90.3221 - mae: 3.3209 - val_loss: 95.8598 - val_mae: 3.4403\n",
      "Epoch 23/60\n",
      "522/522 [==============================] - 1s 3ms/step - loss: 90.5899 - mae: 3.3253 - val_loss: 97.2004 - val_mae: 3.4136\n",
      "Epoch 24/60\n",
      "522/522 [==============================] - 1s 3ms/step - loss: 90.3253 - mae: 3.3066 - val_loss: 95.8095 - val_mae: 3.3714\n",
      "Epoch 25/60\n",
      "522/522 [==============================] - 1s 2ms/step - loss: 90.3493 - mae: 3.2866 - val_loss: 95.8607 - val_mae: 3.3729\n",
      "Epoch 26/60\n",
      "522/522 [==============================] - 1s 3ms/step - loss: 90.5156 - mae: 3.3131 - val_loss: 95.6214 - val_mae: 3.3884\n",
      "Epoch 27/60\n",
      "522/522 [==============================] - 1s 2ms/step - loss: 90.5347 - mae: 3.3137 - val_loss: 95.4121 - val_mae: 3.4413\n",
      "Epoch 28/60\n",
      "522/522 [==============================] - 1s 2ms/step - loss: 90.2572 - mae: 3.3087 - val_loss: 97.1545 - val_mae: 3.4012\n",
      "Epoch 29/60\n",
      "522/522 [==============================] - 1s 2ms/step - loss: 90.2645 - mae: 3.2857 - val_loss: 95.4561 - val_mae: 3.3727\n",
      "Epoch 30/60\n",
      "522/522 [==============================] - 1s 2ms/step - loss: 90.3678 - mae: 3.3190 - val_loss: 101.3731 - val_mae: 3.4736\n",
      "Epoch 31/60\n",
      "522/522 [==============================] - 1s 2ms/step - loss: 90.1327 - mae: 3.2825 - val_loss: 97.4520 - val_mae: 3.4164\n",
      "Epoch 32/60\n",
      "522/522 [==============================] - 1s 2ms/step - loss: 90.0595 - mae: 3.2929 - val_loss: 96.2333 - val_mae: 3.4309\n",
      "Epoch 33/60\n",
      "522/522 [==============================] - 1s 2ms/step - loss: 90.7037 - mae: 3.3192 - val_loss: 96.8925 - val_mae: 3.3834\n",
      "Epoch 34/60\n",
      "522/522 [==============================] - 1s 2ms/step - loss: 90.4607 - mae: 3.3111 - val_loss: 95.6365 - val_mae: 3.4111\n",
      "Epoch 35/60\n",
      "522/522 [==============================] - 1s 2ms/step - loss: 90.6171 - mae: 3.3167 - val_loss: 97.6680 - val_mae: 3.4488\n",
      "Epoch 36/60\n",
      "522/522 [==============================] - 1s 2ms/step - loss: 90.5272 - mae: 3.3051 - val_loss: 96.0098 - val_mae: 3.3606\n",
      "Epoch 37/60\n",
      "522/522 [==============================] - 1s 2ms/step - loss: 90.3252 - mae: 3.2960 - val_loss: 96.1313 - val_mae: 3.3394\n",
      "Epoch 38/60\n",
      "522/522 [==============================] - 1s 3ms/step - loss: 90.4050 - mae: 3.2934 - val_loss: 96.3340 - val_mae: 3.4191\n",
      "Epoch 39/60\n",
      "522/522 [==============================] - 1s 2ms/step - loss: 90.1953 - mae: 3.2949 - val_loss: 97.1916 - val_mae: 3.4197\n",
      "Epoch 40/60\n",
      "522/522 [==============================] - 1s 2ms/step - loss: 90.2250 - mae: 3.2749 - val_loss: 96.7622 - val_mae: 3.3747\n",
      "Epoch 41/60\n",
      "522/522 [==============================] - 1s 2ms/step - loss: 90.6108 - mae: 3.3003 - val_loss: 95.5964 - val_mae: 3.3610\n",
      "Epoch 42/60\n",
      "522/522 [==============================] - 1s 3ms/step - loss: 90.2477 - mae: 3.2811 - val_loss: 97.1304 - val_mae: 3.4054\n",
      "Epoch 43/60\n",
      "522/522 [==============================] - 1s 2ms/step - loss: 90.2811 - mae: 3.2630 - val_loss: 96.2800 - val_mae: 3.3509\n",
      "Epoch 44/60\n",
      "522/522 [==============================] - 1s 2ms/step - loss: 90.4789 - mae: 3.2871 - val_loss: 97.0144 - val_mae: 3.3763\n",
      "Epoch 45/60\n",
      "522/522 [==============================] - 1s 2ms/step - loss: 90.1778 - mae: 3.2589 - val_loss: 95.2597 - val_mae: 3.3587\n",
      "Epoch 46/60\n",
      "522/522 [==============================] - 1s 2ms/step - loss: 89.9159 - mae: 3.2558 - val_loss: 98.0532 - val_mae: 3.3731\n",
      "Epoch 47/60\n",
      "522/522 [==============================] - 1s 2ms/step - loss: 90.1549 - mae: 3.2894 - val_loss: 97.1078 - val_mae: 3.3944\n",
      "Epoch 48/60\n",
      "522/522 [==============================] - 1s 2ms/step - loss: 90.3767 - mae: 3.2874 - val_loss: 97.2799 - val_mae: 3.3748\n",
      "Epoch 49/60\n",
      "522/522 [==============================] - 1s 2ms/step - loss: 90.1829 - mae: 3.2720 - val_loss: 96.1570 - val_mae: 3.3785\n",
      "Epoch 50/60\n",
      "522/522 [==============================] - 1s 2ms/step - loss: 90.2217 - mae: 3.2764 - val_loss: 99.4488 - val_mae: 3.4102\n",
      "Epoch 51/60\n",
      "522/522 [==============================] - 1s 2ms/step - loss: 90.2794 - mae: 3.2696 - val_loss: 96.1955 - val_mae: 3.3186\n",
      "Epoch 52/60\n",
      "522/522 [==============================] - 1s 2ms/step - loss: 90.2413 - mae: 3.2740 - val_loss: 95.6835 - val_mae: 3.3734\n",
      "Epoch 53/60\n",
      "522/522 [==============================] - 1s 2ms/step - loss: 90.4048 - mae: 3.2735 - val_loss: 96.6946 - val_mae: 3.3926\n",
      "Epoch 54/60\n",
      "522/522 [==============================] - 1s 3ms/step - loss: 90.3616 - mae: 3.2859 - val_loss: 96.7620 - val_mae: 3.3613\n",
      "Epoch 55/60\n",
      "522/522 [==============================] - 1s 2ms/step - loss: 90.3007 - mae: 3.2775 - val_loss: 95.5655 - val_mae: 3.4061\n",
      "Epoch 56/60\n",
      "522/522 [==============================] - 1s 2ms/step - loss: 90.4285 - mae: 3.2709 - val_loss: 96.1190 - val_mae: 3.4029\n",
      "Epoch 57/60\n",
      "522/522 [==============================] - 1s 2ms/step - loss: 90.0912 - mae: 3.2638 - val_loss: 97.1315 - val_mae: 3.3789\n",
      "Epoch 58/60\n",
      "522/522 [==============================] - 1s 2ms/step - loss: 90.3988 - mae: 3.2765 - val_loss: 96.1256 - val_mae: 3.3679\n",
      "Epoch 59/60\n",
      "522/522 [==============================] - 1s 2ms/step - loss: 90.0919 - mae: 3.2529 - val_loss: 96.6231 - val_mae: 3.3980\n",
      "Epoch 60/60\n",
      "522/522 [==============================] - 1s 3ms/step - loss: 90.2291 - mae: 3.2629 - val_loss: 97.9452 - val_mae: 3.3989\n",
      "163/163 [==============================] - 1s 2ms/step\n",
      "R-squared (R2) Score: 0.7370297615010805\n"
     ]
    }
   ],
   "source": [
    "import pandas as pd\n",
    "import numpy as np\n",
    "from sklearn.model_selection import train_test_split\n",
    "from sklearn.ensemble import RandomForestRegressor\n",
    "from sklearn.metrics import mean_squared_error, r2_score\n",
    "\n",
    "# Load your dataset\n",
    "# Assuming you have a DataFrame with features and the target variable\n",
    "# For this example, let's assume 'drought_damage_extent' is the target variable\n",
    "data = pd.read_csv('your_dataset.csv')\n",
    "\n",
    "# Split the dataset into features (X) and the target variable (y)\n",
    "X = data.drop('drought_damage_extent', axis=1)\n",
    "y = data['drought_damage_extent']\n",
    "\n",
    "# Apply a log transformation to the target variable\n",
    "\n",
    "# Split the data into training and testing sets\n",
    "X_train, X_test, y_train, y_test = train_test_split(X, y_transformed, test_size=0.2, random_state=42)\n",
    "\n",
    "# Train a Random Forest regressor on the training data\n",
    "rf_regressor = RandomForestRegressor(n_estimators=100, random_state=42)\n",
    "rf_regressor.fit(X_train, y_train)\n",
    "\n",
    "# Make predictions on the test data\n",
    "y_pred_transformed = rf_regressor.predict(X_test)\n",
    "\n",
    "# Inverse-transform the predictions to get the final results\n",
    "y_pred = np.expm1(y_pred_transformed)\n",
    "\n",
    "# Evaluate the model's performance on the original scale\n",
    "mse = mean_squared_error(y, y_pred)\n",
    "r2 = r2_score(y, y_pred)\n",
    "\n",
    "print(\"Mean Squared Error (MSE):\", mse)\n",
    "print(\"R-squared (R2) Score:\", r2)\n"
   ]
  },
  {
   "cell_type": "code",
   "execution_count": null,
   "metadata": {},
   "outputs": [],
   "source": [
    "# Create a DataFrame to compare true and predicted values\n",
    "comparison_df = pd.DataFrame({'true': y_test, 'pred': np.round(predictions.reshape(-1)).astype(int)})"
   ]
  }
 ],
 "metadata": {
  "colab": {
   "provenance": []
  },
  "kernelspec": {
   "display_name": "Python 3 (ipykernel)",
   "language": "python",
   "name": "python3"
  },
  "language_info": {
   "codemirror_mode": {
    "name": "ipython",
    "version": 3
   },
   "file_extension": ".py",
   "mimetype": "text/x-python",
   "name": "python",
   "nbconvert_exporter": "python",
   "pygments_lexer": "ipython3",
   "version": "3.9.13"
  }
 },
 "nbformat": 4,
 "nbformat_minor": 1
}
