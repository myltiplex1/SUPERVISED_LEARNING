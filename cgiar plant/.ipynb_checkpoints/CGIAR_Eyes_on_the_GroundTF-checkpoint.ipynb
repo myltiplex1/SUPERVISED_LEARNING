{
 "cells": [
  {
   "cell_type": "code",
   "execution_count": 1,
   "metadata": {
    "id": "qcx_yzL-P2Kb"
   },
   "outputs": [],
   "source": [
    "import numpy as np\n",
    "import pandas as pd\n",
    "import matplotlib.pyplot as plt\n",
    "import seaborn as sns"
   ]
  },
  {
   "cell_type": "code",
   "execution_count": 2,
   "metadata": {
    "id": "0IJWgPJgQ90Q"
   },
   "outputs": [],
   "source": [
    "data = pd.read_csv('Train.csv')"
   ]
  },
  {
   "cell_type": "code",
   "execution_count": 3,
   "metadata": {
    "colab": {
     "base_uri": "https://localhost:8080/",
     "height": 206
    },
    "id": "wgdnTEKwZS73",
    "outputId": "ab260646-f72f-4355-e651-4a826219b30e"
   },
   "outputs": [
    {
     "data": {
      "text/html": [
       "<div>\n",
       "<style scoped>\n",
       "    .dataframe tbody tr th:only-of-type {\n",
       "        vertical-align: middle;\n",
       "    }\n",
       "\n",
       "    .dataframe tbody tr th {\n",
       "        vertical-align: top;\n",
       "    }\n",
       "\n",
       "    .dataframe thead th {\n",
       "        text-align: right;\n",
       "    }\n",
       "</style>\n",
       "<table border=\"1\" class=\"dataframe\">\n",
       "  <thead>\n",
       "    <tr style=\"text-align: right;\">\n",
       "      <th></th>\n",
       "      <th>ID</th>\n",
       "      <th>filename</th>\n",
       "      <th>growth_stage</th>\n",
       "      <th>damage</th>\n",
       "      <th>extent</th>\n",
       "      <th>season</th>\n",
       "    </tr>\n",
       "  </thead>\n",
       "  <tbody>\n",
       "    <tr>\n",
       "      <th>0</th>\n",
       "      <td>ID_1S8OOWQYCB</td>\n",
       "      <td>L427F01330C01S03961Rp02052.jpg</td>\n",
       "      <td>S</td>\n",
       "      <td>WD</td>\n",
       "      <td>0</td>\n",
       "      <td>SR2020</td>\n",
       "    </tr>\n",
       "    <tr>\n",
       "      <th>1</th>\n",
       "      <td>ID_0MD959MIZ0</td>\n",
       "      <td>L1083F00930C39S12674Ip.jpg</td>\n",
       "      <td>V</td>\n",
       "      <td>G</td>\n",
       "      <td>0</td>\n",
       "      <td>SR2021</td>\n",
       "    </tr>\n",
       "    <tr>\n",
       "      <th>2</th>\n",
       "      <td>ID_JRJCI4Q11V</td>\n",
       "      <td>24_initial_1_1463_1463.JPG</td>\n",
       "      <td>V</td>\n",
       "      <td>G</td>\n",
       "      <td>0</td>\n",
       "      <td>LR2020</td>\n",
       "    </tr>\n",
       "    <tr>\n",
       "      <th>3</th>\n",
       "      <td>ID_DBO3ZGI1GM</td>\n",
       "      <td>L341F00167C01S00324Rp14178.jpg</td>\n",
       "      <td>M</td>\n",
       "      <td>DR</td>\n",
       "      <td>60</td>\n",
       "      <td>SR2020</td>\n",
       "    </tr>\n",
       "    <tr>\n",
       "      <th>4</th>\n",
       "      <td>ID_ORZLWTEUUS</td>\n",
       "      <td>L1084F02394C39S13931Ip.jpg</td>\n",
       "      <td>V</td>\n",
       "      <td>G</td>\n",
       "      <td>0</td>\n",
       "      <td>SR2021</td>\n",
       "    </tr>\n",
       "  </tbody>\n",
       "</table>\n",
       "</div>"
      ],
      "text/plain": [
       "              ID                        filename growth_stage damage  extent  \\\n",
       "0  ID_1S8OOWQYCB  L427F01330C01S03961Rp02052.jpg            S     WD       0   \n",
       "1  ID_0MD959MIZ0      L1083F00930C39S12674Ip.jpg            V      G       0   \n",
       "2  ID_JRJCI4Q11V      24_initial_1_1463_1463.JPG            V      G       0   \n",
       "3  ID_DBO3ZGI1GM  L341F00167C01S00324Rp14178.jpg            M     DR      60   \n",
       "4  ID_ORZLWTEUUS      L1084F02394C39S13931Ip.jpg            V      G       0   \n",
       "\n",
       "   season  \n",
       "0  SR2020  \n",
       "1  SR2021  \n",
       "2  LR2020  \n",
       "3  SR2020  \n",
       "4  SR2021  "
      ]
     },
     "execution_count": 3,
     "metadata": {},
     "output_type": "execute_result"
    }
   ],
   "source": [
    "data.head()"
   ]
  },
  {
   "cell_type": "code",
   "execution_count": 4,
   "metadata": {
    "colab": {
     "base_uri": "https://localhost:8080/"
    },
    "id": "Uo0zCSj4RC2b",
    "outputId": "58099278-593b-4f1c-c239-f7a4b6eb0001"
   },
   "outputs": [
    {
     "data": {
      "text/plain": [
       "array(['L427F01330C01S03961Rp02052.jpg', 'L1083F00930C39S12674Ip.jpg',\n",
       "       '24_initial_1_1463_1463.JPG', ...,\n",
       "       'L134F00766C01S09784Rp26034.jpg',\n",
       "       'L1153F02464C01S00194Rp01561.jpg',\n",
       "       'L406F00362C01S00614Rp06760.jpg'], dtype=object)"
      ]
     },
     "execution_count": 4,
     "metadata": {},
     "output_type": "execute_result"
    }
   ],
   "source": [
    "data['filename'].unique()"
   ]
  },
  {
   "cell_type": "code",
   "execution_count": 5,
   "metadata": {
    "colab": {
     "base_uri": "https://localhost:8080/"
    },
    "id": "01lKnSUuRD75",
    "outputId": "8c4674b8-a3c5-4297-c4ec-88a37544b4c2"
   },
   "outputs": [
    {
     "name": "stdout",
     "output_type": "stream",
     "text": [
      "<class 'pandas.core.frame.DataFrame'>\n",
      "RangeIndex: 26068 entries, 0 to 26067\n",
      "Data columns (total 6 columns):\n",
      " #   Column        Non-Null Count  Dtype \n",
      "---  ------        --------------  ----- \n",
      " 0   ID            26068 non-null  object\n",
      " 1   filename      26068 non-null  object\n",
      " 2   growth_stage  26068 non-null  object\n",
      " 3   damage        26068 non-null  object\n",
      " 4   extent        26068 non-null  int64 \n",
      " 5   season        26068 non-null  object\n",
      "dtypes: int64(1), object(5)\n",
      "memory usage: 1.2+ MB\n"
     ]
    }
   ],
   "source": [
    "data.info()"
   ]
  },
  {
   "cell_type": "code",
   "execution_count": 6,
   "metadata": {
    "colab": {
     "base_uri": "https://localhost:8080/"
    },
    "id": "2Z1TW0zORngZ",
    "outputId": "410c1ef1-0657-490b-8317-6ae5fb1632db"
   },
   "outputs": [
    {
     "data": {
      "text/plain": [
       "ID              0\n",
       "filename        0\n",
       "growth_stage    0\n",
       "damage          0\n",
       "extent          0\n",
       "season          0\n",
       "dtype: int64"
      ]
     },
     "execution_count": 6,
     "metadata": {},
     "output_type": "execute_result"
    }
   ],
   "source": [
    "data.isnull().sum()"
   ]
  },
  {
   "cell_type": "code",
   "execution_count": 7,
   "metadata": {
    "colab": {
     "base_uri": "https://localhost:8080/"
    },
    "id": "okn-az4rZFsC",
    "outputId": "0e084580-191a-4b8d-ed95-67c42603bb93"
   },
   "outputs": [
    {
     "data": {
      "text/plain": [
       "array(['S', 'V', 'M', 'F'], dtype=object)"
      ]
     },
     "execution_count": 7,
     "metadata": {},
     "output_type": "execute_result"
    }
   ],
   "source": [
    "data['growth_stage'].unique()"
   ]
  },
  {
   "cell_type": "code",
   "execution_count": 8,
   "metadata": {
    "colab": {
     "base_uri": "https://localhost:8080/"
    },
    "id": "aWjD2ED_ZYfO",
    "outputId": "34cdfcea-2d25-46eb-8029-ec9c161e0bc1"
   },
   "outputs": [
    {
     "data": {
      "text/plain": [
       "array(['SR2020', 'SR2021', 'LR2020', 'LR2021'], dtype=object)"
      ]
     },
     "execution_count": 8,
     "metadata": {},
     "output_type": "execute_result"
    }
   ],
   "source": [
    "data['season'].unique()"
   ]
  },
  {
   "cell_type": "code",
   "execution_count": 9,
   "metadata": {
    "colab": {
     "base_uri": "https://localhost:8080/"
    },
    "id": "BEU_FIQpZjMV",
    "outputId": "e3afd286-8413-4460-ce7a-c2f4a4e6bca2"
   },
   "outputs": [
    {
     "data": {
      "text/plain": [
       "array(['WD', 'G', 'DR', 'ND', 'DS', 'PS', 'WN', 'FD'], dtype=object)"
      ]
     },
     "execution_count": 9,
     "metadata": {},
     "output_type": "execute_result"
    }
   ],
   "source": [
    "data['damage'].unique()"
   ]
  },
  {
   "cell_type": "code",
   "execution_count": 10,
   "metadata": {
    "colab": {
     "base_uri": "https://localhost:8080/"
    },
    "id": "lBxGzS_aZqc1",
    "outputId": "0a2854a4-782e-465c-d4ce-d32f48406b49"
   },
   "outputs": [
    {
     "data": {
      "text/plain": [
       "dtype('int64')"
      ]
     },
     "execution_count": 10,
     "metadata": {},
     "output_type": "execute_result"
    }
   ],
   "source": [
    "data['extent'].dtype"
   ]
  },
  {
   "cell_type": "code",
   "execution_count": 11,
   "metadata": {
    "colab": {
     "base_uri": "https://localhost:8080/"
    },
    "id": "jIDyvLEJZtqM",
    "outputId": "71643998-33f4-4c42-a395-98183feba5ad"
   },
   "outputs": [
    {
     "data": {
      "text/plain": [
       "(26068, 6)"
      ]
     },
     "execution_count": 11,
     "metadata": {},
     "output_type": "execute_result"
    }
   ],
   "source": [
    "data.shape"
   ]
  },
  {
   "cell_type": "code",
   "execution_count": 12,
   "metadata": {
    "colab": {
     "base_uri": "https://localhost:8080/",
     "height": 450
    },
    "id": "c1uCAlJghBdL",
    "outputId": "8deb5543-ee0d-42ba-d4e0-07a65d982d0a"
   },
   "outputs": [
    {
     "data": {
      "image/png": "[encoded data removed]",
      "text/plain": [
       "<Figure size 640x480 with 1 Axes>"
      ]
     },
     "metadata": {},
     "output_type": "display_data"
    }
   ],
   "source": [
    "sns.lineplot(data=data, x='growth_stage', y='extent');"
   ]
  },
  {
   "cell_type": "code",
   "execution_count": null,
   "metadata": {
    "colab": {
     "base_uri": "https://localhost:8080/",
     "height": 450
    },
    "id": "mjmcuvZ3hP4q",
    "outputId": "d0391666-3b24-48c6-98b7-d4fe0ca13635"
   },
   "outputs": [
    {
     "data": {
      "image/png": "[encoded data removed]",
      "text/plain": [
       "<Figure size 640x480 with 1 Axes>"
      ]
     },
     "metadata": {},
     "output_type": "display_data"
    }
   ],
   "source": [
    "sns.countplot(data=data, x='growth_stage');"
   ]
  },
  {
   "cell_type": "code",
   "execution_count": null,
   "metadata": {
    "colab": {
     "base_uri": "https://localhost:8080/",
     "height": 450
    },
    "id": "bkOSzFKbhjEJ",
    "outputId": "7c8eeac0-493e-4a04-e256-362057e71328"
   },
   "outputs": [
    {
     "data": {
      "image/png": "[encoded data removed]",
      "text/plain": [
       "<Figure size 640x480 with 1 Axes>"
      ]
     },
     "metadata": {},
     "output_type": "display_data"
    }
   ],
   "source": [
    "sns.lineplot(data=data, x='growth_stage', y='extent', hue='damage')\n",
    "plt.legend(bbox_to_anchor = [1,1,0,0]);"
   ]
  },
  {
   "cell_type": "code",
   "execution_count": null,
   "metadata": {
    "colab": {
     "base_uri": "https://localhost:8080/",
     "height": 449
    },
    "id": "ieWZxuExhtNJ",
    "outputId": "2c1d0b9a-d03d-461d-d40a-3553e7c1461a"
   },
   "outputs": [
    {
     "data": {
      "image/png": "[encoded data removed]",
      "text/plain": [
       "<Figure size 640x480 with 1 Axes>"
      ]
     },
     "metadata": {},
     "output_type": "display_data"
    }
   ],
   "source": [
    "sns.countplot(data=data, x='damage');"
   ]
  },
  {
   "cell_type": "code",
   "execution_count": null,
   "metadata": {
    "colab": {
     "base_uri": "https://localhost:8080/",
     "height": 449
    },
    "id": "BgJuw5NhiOh-",
    "outputId": "96c5d533-d425-4033-a985-e6202307b625"
   },
   "outputs": [
    {
     "data": {
      "image/png": "[encoded data removed]",
      "text/plain": [
       "<Figure size 640x480 with 1 Axes>"
      ]
     },
     "metadata": {},
     "output_type": "display_data"
    }
   ],
   "source": [
    "sns.countplot(data=data, x='season');"
   ]
  },
  {
   "cell_type": "code",
   "execution_count": null,
   "metadata": {
    "colab": {
     "base_uri": "https://localhost:8080/",
     "height": 449
    },
    "id": "-OItlLZ_khAW",
    "outputId": "5519f58b-af81-4b55-9874-91fbbadcc358"
   },
   "outputs": [
    {
     "data": {
      "image/png": "[encoded data removed]",
      "text/plain": [
       "<Figure size 640x480 with 1 Axes>"
      ]
     },
     "metadata": {},
     "output_type": "display_data"
    }
   ],
   "source": [
    "sns.lineplot(data=data, x='season', y='extent');"
   ]
  },
  {
   "cell_type": "code",
   "execution_count": null,
   "metadata": {
    "colab": {
     "base_uri": "https://localhost:8080/",
     "height": 449
    },
    "id": "tK8j_E5Mkwlq",
    "outputId": "f6166b33-b971-4000-e0eb-0297ca4f0252"
   },
   "outputs": [
    {
     "data": {
      "image/png": "[encoded data removed]",
      "text/plain": [
       "<Figure size 640x480 with 1 Axes>"
      ]
     },
     "metadata": {},
     "output_type": "display_data"
    }
   ],
   "source": [
    "sns.barplot(data=data, x='season', y='extent');"
   ]
  },
  {
   "cell_type": "code",
   "execution_count": null,
   "metadata": {
    "colab": {
     "base_uri": "https://localhost:8080/",
     "height": 450
    },
    "id": "T7wGVYX0k_O2",
    "outputId": "483fca78-99b7-4b86-9f08-3da8f746e81d"
   },
   "outputs": [
    {
     "data": {
      "image/png": "[encoded data removed]",
      "text/plain": [
       "<Figure size 640x480 with 1 Axes>"
      ]
     },
     "metadata": {},
     "output_type": "display_data"
    }
   ],
   "source": [
    "sns.violinplot(data=data, x='growth_stage', y='extent');"
   ]
  },
  {
   "cell_type": "code",
   "execution_count": 13,
   "metadata": {
    "colab": {
     "base_uri": "https://localhost:8080/"
    },
    "id": "6xySV9WEqQmx",
    "outputId": "4ecae84c-0774-4869-c5bd-74ce55f69079"
   },
   "outputs": [
    {
     "data": {
      "text/plain": [
       "Index(['ID', 'filename', 'growth_stage', 'damage', 'extent', 'season'], dtype='object')"
      ]
     },
     "execution_count": 13,
     "metadata": {},
     "output_type": "execute_result"
    }
   ],
   "source": [
    "data.columns"
   ]
  },
  {
   "cell_type": "code",
   "execution_count": 14,
   "metadata": {
    "id": "JlAdqmJ-qTRZ"
   },
   "outputs": [],
   "source": [
    "data =data.drop(['ID','filename'], axis=1)"
   ]
  },
  {
   "cell_type": "code",
   "execution_count": 15,
   "metadata": {
    "id": "rxFx94Trqhoz"
   },
   "outputs": [],
   "source": [
    "categorical_columns = data.select_dtypes(include=['object']).columns.tolist()"
   ]
  },
  {
   "cell_type": "code",
   "execution_count": 16,
   "metadata": {
    "colab": {
     "base_uri": "https://localhost:8080/"
    },
    "id": "H4oy0btWrbYx",
    "outputId": "4ca64188-5716-471b-cfca-353c2e854f47"
   },
   "outputs": [
    {
     "data": {
      "text/plain": [
       "['growth_stage', 'damage', 'season']"
      ]
     },
     "execution_count": 16,
     "metadata": {},
     "output_type": "execute_result"
    }
   ],
   "source": [
    "categorical_columns"
   ]
  },
  {
   "cell_type": "code",
   "execution_count": 17,
   "metadata": {
    "id": "gr-HPydLpyG5"
   },
   "outputs": [],
   "source": [
    "df = pd.get_dummies(data, columns=categorical_columns, drop_first=True)"
   ]
  },
  {
   "cell_type": "code",
   "execution_count": 18,
   "metadata": {
    "colab": {
     "base_uri": "https://localhost:8080/",
     "height": 256
    },
    "id": "Z4KRkNHLrmB5",
    "outputId": "236cf58a-0e01-4d99-f97b-7579191a9541"
   },
   "outputs": [
    {
     "data": {
      "text/html": [
       "<div>\n",
       "<style scoped>\n",
       "    .dataframe tbody tr th:only-of-type {\n",
       "        vertical-align: middle;\n",
       "    }\n",
       "\n",
       "    .dataframe tbody tr th {\n",
       "        vertical-align: top;\n",
       "    }\n",
       "\n",
       "    .dataframe thead th {\n",
       "        text-align: right;\n",
       "    }\n",
       "</style>\n",
       "<table border=\"1\" class=\"dataframe\">\n",
       "  <thead>\n",
       "    <tr style=\"text-align: right;\">\n",
       "      <th></th>\n",
       "      <th>extent</th>\n",
       "      <th>growth_stage_M</th>\n",
       "      <th>growth_stage_S</th>\n",
       "      <th>growth_stage_V</th>\n",
       "      <th>damage_DS</th>\n",
       "      <th>damage_FD</th>\n",
       "      <th>damage_G</th>\n",
       "      <th>damage_ND</th>\n",
       "      <th>damage_PS</th>\n",
       "      <th>damage_WD</th>\n",
       "      <th>damage_WN</th>\n",
       "      <th>season_LR2021</th>\n",
       "      <th>season_SR2020</th>\n",
       "      <th>season_SR2021</th>\n",
       "    </tr>\n",
       "  </thead>\n",
       "  <tbody>\n",
       "    <tr>\n",
       "      <th>0</th>\n",
       "      <td>0</td>\n",
       "      <td>0</td>\n",
       "      <td>1</td>\n",
       "      <td>0</td>\n",
       "      <td>0</td>\n",
       "      <td>0</td>\n",
       "      <td>0</td>\n",
       "      <td>0</td>\n",
       "      <td>0</td>\n",
       "      <td>1</td>\n",
       "      <td>0</td>\n",
       "      <td>0</td>\n",
       "      <td>1</td>\n",
       "      <td>0</td>\n",
       "    </tr>\n",
       "    <tr>\n",
       "      <th>1</th>\n",
       "      <td>0</td>\n",
       "      <td>0</td>\n",
       "      <td>0</td>\n",
       "      <td>1</td>\n",
       "      <td>0</td>\n",
       "      <td>0</td>\n",
       "      <td>1</td>\n",
       "      <td>0</td>\n",
       "      <td>0</td>\n",
       "      <td>0</td>\n",
       "      <td>0</td>\n",
       "      <td>0</td>\n",
       "      <td>0</td>\n",
       "      <td>1</td>\n",
       "    </tr>\n",
       "    <tr>\n",
       "      <th>2</th>\n",
       "      <td>0</td>\n",
       "      <td>0</td>\n",
       "      <td>0</td>\n",
       "      <td>1</td>\n",
       "      <td>0</td>\n",
       "      <td>0</td>\n",
       "      <td>1</td>\n",
       "      <td>0</td>\n",
       "      <td>0</td>\n",
       "      <td>0</td>\n",
       "      <td>0</td>\n",
       "      <td>0</td>\n",
       "      <td>0</td>\n",
       "      <td>0</td>\n",
       "    </tr>\n",
       "    <tr>\n",
       "      <th>3</th>\n",
       "      <td>60</td>\n",
       "      <td>1</td>\n",
       "      <td>0</td>\n",
       "      <td>0</td>\n",
       "      <td>0</td>\n",
       "      <td>0</td>\n",
       "      <td>0</td>\n",
       "      <td>0</td>\n",
       "      <td>0</td>\n",
       "      <td>0</td>\n",
       "      <td>0</td>\n",
       "      <td>0</td>\n",
       "      <td>1</td>\n",
       "      <td>0</td>\n",
       "    </tr>\n",
       "    <tr>\n",
       "      <th>4</th>\n",
       "      <td>0</td>\n",
       "      <td>0</td>\n",
       "      <td>0</td>\n",
       "      <td>1</td>\n",
       "      <td>0</td>\n",
       "      <td>0</td>\n",
       "      <td>1</td>\n",
       "      <td>0</td>\n",
       "      <td>0</td>\n",
       "      <td>0</td>\n",
       "      <td>0</td>\n",
       "      <td>0</td>\n",
       "      <td>0</td>\n",
       "      <td>1</td>\n",
       "    </tr>\n",
       "  </tbody>\n",
       "</table>\n",
       "</div>"
      ],
      "text/plain": [
       "   extent  growth_stage_M  growth_stage_S  growth_stage_V  damage_DS  \\\n",
       "0       0               0               1               0          0   \n",
       "1       0               0               0               1          0   \n",
       "2       0               0               0               1          0   \n",
       "3      60               1               0               0          0   \n",
       "4       0               0               0               1          0   \n",
       "\n",
       "   damage_FD  damage_G  damage_ND  damage_PS  damage_WD  damage_WN  \\\n",
       "0          0         0          0          0          1          0   \n",
       "1          0         1          0          0          0          0   \n",
       "2          0         1          0          0          0          0   \n",
       "3          0         0          0          0          0          0   \n",
       "4          0         1          0          0          0          0   \n",
       "\n",
       "   season_LR2021  season_SR2020  season_SR2021  \n",
       "0              0              1              0  \n",
       "1              0              0              1  \n",
       "2              0              0              0  \n",
       "3              0              1              0  \n",
       "4              0              0              1  "
      ]
     },
     "execution_count": 18,
     "metadata": {},
     "output_type": "execute_result"
    }
   ],
   "source": [
    "df.head()"
   ]
  },
  {
   "cell_type": "code",
   "execution_count": 19,
   "metadata": {
    "id": "eBQsLjg8nDIe"
   },
   "outputs": [],
   "source": [
    "from sklearn.model_selection import train_test_split, GridSearchCV\n",
    "import xgboost as xgb\n",
    "from sklearn.metrics import r2_score, mean_squared_error\n",
    "from sklearn.linear_model import LinearRegression\n",
    "from sklearn.ensemble import RandomForestRegressor\n",
    "from sklearn.ensemble import GradientBoostingRegressor, AdaBoostRegressor\n",
    "from sklearn.tree import DecisionTreeRegressor\n",
    "from sklearn.svm import SVR"
   ]
  },
  {
   "cell_type": "code",
   "execution_count": 23,
   "metadata": {
    "id": "Xp1qOZHbpYMk"
   },
   "outputs": [],
   "source": [
    "# Create the feature matrix 'X' by dropping the 'wickets' column from 'new_df'\n",
    "X = df.drop('extent', axis=1)"
   ]
  },
  {
   "cell_type": "code",
   "execution_count": 24,
   "metadata": {
    "id": "pNaU6IH6r98j"
   },
   "outputs": [],
   "source": [
    "y = df['extent']"
   ]
  },
  {
   "cell_type": "code",
   "execution_count": 25,
   "metadata": {
    "id": "bJFUxbyAsJbS"
   },
   "outputs": [],
   "source": [
    "# Split the data into training and testing sets\n",
    "# X_train and y_train will be used for training the model\n",
    "# X_test and y_test will be used for evaluating the model\n",
    "X_train, X_test, y_train, y_test = train_test_split(X, y, test_size=0.2, random_state=42)"
   ]
  },
  {
   "cell_type": "code",
   "execution_count": 26,
   "metadata": {
    "id": "rmeYBTAYso2G"
   },
   "outputs": [],
   "source": [
    "test_data = pd.read_csv('Test.csv')\n",
    "test_df = pd.get_dummies(test_data.drop(['ID','filename'],axis=1), drop_first=True)"
   ]
  },
  {
   "cell_type": "code",
   "execution_count": 32,
   "metadata": {
    "colab": {
     "base_uri": "https://localhost:8080/"
    },
    "id": "0KJPezgBvzOZ",
    "outputId": "611e20dd-e2ae-470f-8d2f-958770b30a9b"
   },
   "outputs": [
    {
     "name": "stdout",
     "output_type": "stream",
     "text": [
      "Epoch 1/70\n",
      "522/522 [==============================] - 2s 2ms/step - loss: 176.6394 - mae: 5.6200 - val_loss: 101.7490 - val_mae: 3.9338\n",
      "Epoch 2/70\n",
      "522/522 [==============================] - 1s 2ms/step - loss: 94.6934 - mae: 3.8595 - val_loss: 98.0321 - val_mae: 3.8121\n",
      "Epoch 3/70\n",
      "522/522 [==============================] - 1s 2ms/step - loss: 92.5911 - mae: 3.7124 - val_loss: 96.9029 - val_mae: 3.6482\n",
      "Epoch 4/70\n",
      "522/522 [==============================] - 1s 2ms/step - loss: 92.3365 - mae: 3.6885 - val_loss: 97.2812 - val_mae: 3.8478\n",
      "Epoch 5/70\n",
      "522/522 [==============================] - 1s 2ms/step - loss: 91.6338 - mae: 3.6261 - val_loss: 96.2523 - val_mae: 3.6172\n",
      "Epoch 6/70\n",
      "522/522 [==============================] - 1s 2ms/step - loss: 91.4724 - mae: 3.6053 - val_loss: 96.5539 - val_mae: 3.7787\n",
      "Epoch 7/70\n",
      "522/522 [==============================] - 1s 2ms/step - loss: 91.2500 - mae: 3.6018 - val_loss: 96.3329 - val_mae: 3.4901\n",
      "Epoch 8/70\n",
      "522/522 [==============================] - 1s 2ms/step - loss: 91.0675 - mae: 3.5886 - val_loss: 96.0140 - val_mae: 3.6098\n",
      "Epoch 9/70\n",
      "522/522 [==============================] - 1s 2ms/step - loss: 91.1497 - mae: 3.6135 - val_loss: 96.6625 - val_mae: 3.6118\n",
      "Epoch 10/70\n",
      "522/522 [==============================] - 1s 3ms/step - loss: 90.9123 - mae: 3.5531 - val_loss: 95.8385 - val_mae: 3.4872\n",
      "Epoch 11/70\n",
      "522/522 [==============================] - 1s 3ms/step - loss: 90.8981 - mae: 3.5303 - val_loss: 96.1129 - val_mae: 3.5093\n",
      "Epoch 12/70\n",
      "522/522 [==============================] - 1s 2ms/step - loss: 90.6956 - mae: 3.5027 - val_loss: 95.3417 - val_mae: 3.5192\n",
      "Epoch 13/70\n",
      "522/522 [==============================] - 1s 3ms/step - loss: 90.6681 - mae: 3.5209 - val_loss: 97.4200 - val_mae: 3.6665\n",
      "Epoch 14/70\n",
      "522/522 [==============================] - 1s 2ms/step - loss: 90.6234 - mae: 3.5229 - val_loss: 96.7054 - val_mae: 3.5456\n",
      "Epoch 15/70\n",
      "522/522 [==============================] - 1s 3ms/step - loss: 90.5723 - mae: 3.5538 - val_loss: 96.4230 - val_mae: 3.6041\n",
      "Epoch 16/70\n",
      "522/522 [==============================] - 1s 2ms/step - loss: 90.2718 - mae: 3.4864 - val_loss: 96.1332 - val_mae: 3.6289\n",
      "Epoch 17/70\n",
      "522/522 [==============================] - 1s 2ms/step - loss: 90.8637 - mae: 3.5245 - val_loss: 96.9980 - val_mae: 3.5804\n",
      "Epoch 18/70\n",
      "522/522 [==============================] - 1s 3ms/step - loss: 90.1407 - mae: 3.5003 - val_loss: 96.3436 - val_mae: 3.6455\n",
      "Epoch 19/70\n",
      "522/522 [==============================] - 1s 2ms/step - loss: 90.6125 - mae: 3.4693 - val_loss: 96.6240 - val_mae: 3.6042\n",
      "Epoch 20/70\n",
      "522/522 [==============================] - 1s 2ms/step - loss: 90.4443 - mae: 3.4839 - val_loss: 98.2686 - val_mae: 3.4921\n",
      "Epoch 21/70\n",
      "522/522 [==============================] - 1s 2ms/step - loss: 90.6379 - mae: 3.4891 - val_loss: 97.0254 - val_mae: 3.4282\n",
      "Epoch 22/70\n",
      "522/522 [==============================] - 1s 2ms/step - loss: 90.2890 - mae: 3.4595 - val_loss: 98.0538 - val_mae: 3.6769\n",
      "Epoch 23/70\n",
      "522/522 [==============================] - 1s 2ms/step - loss: 90.5283 - mae: 3.4901 - val_loss: 97.2899 - val_mae: 3.4994\n",
      "Epoch 24/70\n",
      "522/522 [==============================] - 1s 2ms/step - loss: 90.4269 - mae: 3.4942 - val_loss: 97.3664 - val_mae: 3.4857\n",
      "Epoch 25/70\n",
      "522/522 [==============================] - 1s 2ms/step - loss: 90.6104 - mae: 3.4694 - val_loss: 97.6245 - val_mae: 3.5509\n",
      "Epoch 26/70\n",
      "522/522 [==============================] - 1s 3ms/step - loss: 90.4802 - mae: 3.4734 - val_loss: 95.9309 - val_mae: 3.5329\n",
      "Epoch 27/70\n",
      "522/522 [==============================] - 1s 2ms/step - loss: 90.3405 - mae: 3.4462 - val_loss: 99.0463 - val_mae: 3.7412\n",
      "Epoch 28/70\n",
      "522/522 [==============================] - 1s 2ms/step - loss: 90.5662 - mae: 3.4423 - val_loss: 97.0512 - val_mae: 3.5706\n",
      "Epoch 29/70\n",
      "522/522 [==============================] - 1s 2ms/step - loss: 90.3608 - mae: 3.4289 - val_loss: 96.9200 - val_mae: 3.5316\n",
      "Epoch 30/70\n",
      "522/522 [==============================] - 1s 2ms/step - loss: 90.2911 - mae: 3.4227 - val_loss: 96.6631 - val_mae: 3.4877\n",
      "Epoch 31/70\n",
      "522/522 [==============================] - 1s 2ms/step - loss: 90.1946 - mae: 3.4229 - val_loss: 96.4975 - val_mae: 3.5933\n",
      "Epoch 32/70\n",
      "522/522 [==============================] - 1s 2ms/step - loss: 90.3363 - mae: 3.4097 - val_loss: 96.5264 - val_mae: 4.1276\n",
      "Epoch 33/70\n",
      "522/522 [==============================] - 1s 2ms/step - loss: 90.5899 - mae: 3.4499 - val_loss: 96.6035 - val_mae: 3.4963\n",
      "Epoch 34/70\n",
      "522/522 [==============================] - 1s 2ms/step - loss: 90.3684 - mae: 3.4536 - val_loss: 96.2913 - val_mae: 3.5423\n",
      "Epoch 35/70\n",
      "522/522 [==============================] - 1s 2ms/step - loss: 90.3908 - mae: 3.4280 - val_loss: 96.3015 - val_mae: 3.8270\n",
      "Epoch 36/70\n",
      "522/522 [==============================] - 1s 2ms/step - loss: 90.5085 - mae: 3.4407 - val_loss: 98.2994 - val_mae: 3.5906\n",
      "Epoch 37/70\n",
      "522/522 [==============================] - 1s 2ms/step - loss: 90.3765 - mae: 3.4231 - val_loss: 95.9280 - val_mae: 3.4157\n",
      "Epoch 38/70\n",
      "522/522 [==============================] - 1s 2ms/step - loss: 90.3044 - mae: 3.3897 - val_loss: 96.8211 - val_mae: 3.5355\n",
      "Epoch 39/70\n",
      "522/522 [==============================] - 1s 2ms/step - loss: 90.3261 - mae: 3.4029 - val_loss: 95.7881 - val_mae: 3.4239\n",
      "Epoch 40/70\n",
      "522/522 [==============================] - 1s 2ms/step - loss: 90.2234 - mae: 3.4424 - val_loss: 97.9791 - val_mae: 3.4757\n",
      "Epoch 41/70\n",
      "522/522 [==============================] - 1s 2ms/step - loss: 90.3087 - mae: 3.4146 - val_loss: 99.5114 - val_mae: 3.6095\n",
      "Epoch 42/70\n",
      "522/522 [==============================] - 1s 2ms/step - loss: 90.2534 - mae: 3.4181 - val_loss: 96.6066 - val_mae: 3.4527\n",
      "Epoch 43/70\n",
      "522/522 [==============================] - 1s 3ms/step - loss: 89.9245 - mae: 3.3928 - val_loss: 96.5270 - val_mae: 3.5979\n",
      "Epoch 44/70\n",
      "522/522 [==============================] - 1s 2ms/step - loss: 90.5124 - mae: 3.4104 - val_loss: 96.2602 - val_mae: 3.4300\n",
      "Epoch 45/70\n",
      "522/522 [==============================] - 1s 2ms/step - loss: 90.2592 - mae: 3.3947 - val_loss: 96.1283 - val_mae: 3.5226\n",
      "Epoch 46/70\n",
      "522/522 [==============================] - 1s 2ms/step - loss: 90.2411 - mae: 3.3762 - val_loss: 96.2031 - val_mae: 3.4444\n",
      "Epoch 47/70\n",
      "522/522 [==============================] - 1s 2ms/step - loss: 90.4605 - mae: 3.3926 - val_loss: 97.0854 - val_mae: 3.4927\n",
      "Epoch 48/70\n",
      "522/522 [==============================] - 1s 2ms/step - loss: 90.0962 - mae: 3.3710 - val_loss: 100.0562 - val_mae: 3.6401\n",
      "Epoch 49/70\n",
      "522/522 [==============================] - 1s 2ms/step - loss: 90.2635 - mae: 3.3761 - val_loss: 96.6344 - val_mae: 3.4671\n",
      "Epoch 50/70\n",
      "522/522 [==============================] - 1s 2ms/step - loss: 90.0794 - mae: 3.3645 - val_loss: 95.6891 - val_mae: 3.4911\n",
      "Epoch 51/70\n",
      "522/522 [==============================] - 1s 2ms/step - loss: 90.3997 - mae: 3.3793 - val_loss: 96.6425 - val_mae: 3.4330\n",
      "Epoch 52/70\n",
      "522/522 [==============================] - 1s 2ms/step - loss: 90.0666 - mae: 3.3829 - val_loss: 97.5973 - val_mae: 3.5895\n",
      "Epoch 53/70\n",
      "522/522 [==============================] - 1s 2ms/step - loss: 90.4449 - mae: 3.3601 - val_loss: 96.1125 - val_mae: 3.4033\n",
      "Epoch 54/70\n",
      "522/522 [==============================] - 1s 2ms/step - loss: 90.3270 - mae: 3.3679 - val_loss: 96.3724 - val_mae: 3.3877\n",
      "Epoch 55/70\n",
      "522/522 [==============================] - 1s 2ms/step - loss: 90.2666 - mae: 3.3668 - val_loss: 98.0146 - val_mae: 3.4705\n",
      "Epoch 56/70\n",
      "522/522 [==============================] - 1s 2ms/step - loss: 90.4175 - mae: 3.3890 - val_loss: 96.5116 - val_mae: 3.4706\n",
      "Epoch 57/70\n",
      "522/522 [==============================] - 1s 2ms/step - loss: 90.2630 - mae: 3.3695 - val_loss: 95.4994 - val_mae: 3.4176\n",
      "Epoch 58/70\n",
      "522/522 [==============================] - 1s 2ms/step - loss: 90.3607 - mae: 3.3811 - val_loss: 96.3570 - val_mae: 3.4134\n",
      "Epoch 59/70\n",
      "522/522 [==============================] - 1s 2ms/step - loss: 90.3347 - mae: 3.3598 - val_loss: 96.5957 - val_mae: 3.4910\n",
      "Epoch 60/70\n",
      "522/522 [==============================] - 1s 2ms/step - loss: 90.0792 - mae: 3.3740 - val_loss: 97.9663 - val_mae: 3.4764\n",
      "Epoch 61/70\n",
      "522/522 [==============================] - 1s 2ms/step - loss: 90.2726 - mae: 3.3629 - val_loss: 96.9800 - val_mae: 3.4802\n"
     ]
    },
    {
     "name": "stdout",
     "output_type": "stream",
     "text": [
      "Epoch 62/70\n",
      "522/522 [==============================] - 1s 2ms/step - loss: 90.4582 - mae: 3.3747 - val_loss: 96.3268 - val_mae: 3.4045\n",
      "Epoch 63/70\n",
      "522/522 [==============================] - 1s 2ms/step - loss: 90.1285 - mae: 3.3322 - val_loss: 96.9990 - val_mae: 3.4530\n",
      "Epoch 64/70\n",
      "522/522 [==============================] - 1s 2ms/step - loss: 90.1885 - mae: 3.3417 - val_loss: 97.8320 - val_mae: 3.5970\n",
      "Epoch 65/70\n",
      "522/522 [==============================] - 1s 2ms/step - loss: 90.3053 - mae: 3.3501 - val_loss: 96.0930 - val_mae: 3.4505\n",
      "Epoch 66/70\n",
      "522/522 [==============================] - 1s 2ms/step - loss: 90.2267 - mae: 3.3454 - val_loss: 97.0790 - val_mae: 3.4531\n",
      "Epoch 67/70\n",
      "522/522 [==============================] - 1s 2ms/step - loss: 90.3859 - mae: 3.3491 - val_loss: 96.6409 - val_mae: 3.3595\n",
      "Epoch 68/70\n",
      "522/522 [==============================] - 1s 2ms/step - loss: 89.9078 - mae: 3.3061 - val_loss: 95.9552 - val_mae: 3.4495\n",
      "Epoch 69/70\n",
      "522/522 [==============================] - 1s 2ms/step - loss: 90.1127 - mae: 3.3301 - val_loss: 96.8606 - val_mae: 3.3910\n",
      "Epoch 70/70\n",
      "522/522 [==============================] - 1s 2ms/step - loss: 90.3263 - mae: 3.3534 - val_loss: 95.8688 - val_mae: 3.6334\n",
      "163/163 [==============================] - 0s 1ms/step\n",
      "R-squared (R2) Score: 0.7381475886489592\n"
     ]
    }
   ],
   "source": [
    "import tensorflow as tf\n",
    "from tensorflow import keras\n",
    "from sklearn.metrics import mean_squared_error, r2_score\n",
    "\n",
    "# Define your model architecture\n",
    "model = keras.Sequential([\n",
    "    keras.layers.Dense(64, activation='relu', input_shape=(X_train.shape[1],)),\n",
    "    keras.layers.Dense(32, activation='relu'),\n",
    "    keras.layers.Dense(1)  # Output layer with 1 neuron for regression\n",
    "])\n",
    "\n",
    "# Compile the model\n",
    "model.compile(optimizer='adam', loss='mean_squared_error', metrics=['mae'])\n",
    "\n",
    "# Train the model\n",
    "model.fit(X_train, y_train, epochs=70, batch_size=32, validation_split=0.2)\n",
    "\n",
    "# Make predictions\n",
    "predictions = model.predict(X_test)\n",
    "\n",
    "# Calculate R-squared (R2) score\n",
    "r2 = r2_score(y_test, predictions)\n",
    "\n",
    "# Print the R2 score\n",
    "print(\"R-squared (R2) Score:\", r2)"
   ]
  },
  {
   "cell_type": "code",
   "execution_count": 33,
   "metadata": {},
   "outputs": [
    {
     "name": "stdout",
     "output_type": "stream",
     "text": [
      "271/271 [==============================] - 1s 2ms/step\n"
     ]
    }
   ],
   "source": [
    "test_pred = model.predict(test_df)"
   ]
  },
  {
   "cell_type": "code",
   "execution_count": 35,
   "metadata": {},
   "outputs": [],
   "source": [
    "# Create a DataFrame to compare true and predicted values\n",
    "comparison_df = pd.DataFrame({'ID': test_data['ID'], 'extent': np.round(test_pred.reshape(-1)).astype(int)})"
   ]
  },
  {
   "cell_type": "code",
   "execution_count": 37,
   "metadata": {},
   "outputs": [
    {
     "data": {
      "text/plain": [
       "ID        0\n",
       "extent    0\n",
       "dtype: int64"
      ]
     },
     "execution_count": 37,
     "metadata": {},
     "output_type": "execute_result"
    }
   ],
   "source": [
    "comparison_df.isnull().sum()"
   ]
  },
  {
   "cell_type": "code",
   "execution_count": 38,
   "metadata": {},
   "outputs": [],
   "source": [
    "comparison_df.to_csv('final3', index = False)"
   ]
  },
  {
   "cell_type": "code",
   "execution_count": null,
   "metadata": {},
   "outputs": [],
   "source": []
  }
 ],
 "metadata": {
  "colab": {
   "provenance": []
  },
  "kernelspec": {
   "display_name": "Python 3 (ipykernel)",
   "language": "python",
   "name": "python3"
  },
  "language_info": {
   "codemirror_mode": {
    "name": "ipython",
    "version": 3
   },
   "file_extension": ".py",
   "mimetype": "text/x-python",
   "name": "python",
   "nbconvert_exporter": "python",
   "pygments_lexer": "ipython3",
   "version": "3.9.13"
  }
 },
 "nbformat": 4,
 "nbformat_minor": 1
}
