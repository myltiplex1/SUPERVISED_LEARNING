{
 "cells": [
  {
   "cell_type": "code",
   "execution_count": 132,
   "metadata": {
    "id": "qcx_yzL-P2Kb"
   },
   "outputs": [],
   "source": [
    "import numpy as np\n",
    "import pandas as pd\n",
    "import matplotlib.pyplot as plt\n",
    "import seaborn as sns"
   ]
  },
  {
   "cell_type": "code",
   "execution_count": 133,
   "metadata": {
    "id": "0IJWgPJgQ90Q"
   },
   "outputs": [],
   "source": [
    "data = pd.read_csv('Train.csv')"
   ]
  },
  {
   "cell_type": "code",
   "execution_count": 134,
   "metadata": {
    "colab": {
     "base_uri": "https://localhost:8080/",
     "height": 206
    },
    "id": "wgdnTEKwZS73",
    "outputId": "ab260646-f72f-4355-e651-4a826219b30e"
   },
   "outputs": [
    {
     "data": {
      "text/html": [
       "<div>\n",
       "<style scoped>\n",
       "    .dataframe tbody tr th:only-of-type {\n",
       "        vertical-align: middle;\n",
       "    }\n",
       "\n",
       "    .dataframe tbody tr th {\n",
       "        vertical-align: top;\n",
       "    }\n",
       "\n",
       "    .dataframe thead th {\n",
       "        text-align: right;\n",
       "    }\n",
       "</style>\n",
       "<table border=\"1\" class=\"dataframe\">\n",
       "  <thead>\n",
       "    <tr style=\"text-align: right;\">\n",
       "      <th></th>\n",
       "      <th>ID</th>\n",
       "      <th>filename</th>\n",
       "      <th>growth_stage</th>\n",
       "      <th>damage</th>\n",
       "      <th>extent</th>\n",
       "      <th>season</th>\n",
       "    </tr>\n",
       "  </thead>\n",
       "  <tbody>\n",
       "    <tr>\n",
       "      <th>0</th>\n",
       "      <td>ID_1S8OOWQYCB</td>\n",
       "      <td>L427F01330C01S03961Rp02052.jpg</td>\n",
       "      <td>S</td>\n",
       "      <td>WD</td>\n",
       "      <td>0</td>\n",
       "      <td>SR2020</td>\n",
       "    </tr>\n",
       "    <tr>\n",
       "      <th>1</th>\n",
       "      <td>ID_0MD959MIZ0</td>\n",
       "      <td>L1083F00930C39S12674Ip.jpg</td>\n",
       "      <td>V</td>\n",
       "      <td>G</td>\n",
       "      <td>0</td>\n",
       "      <td>SR2021</td>\n",
       "    </tr>\n",
       "    <tr>\n",
       "      <th>2</th>\n",
       "      <td>ID_JRJCI4Q11V</td>\n",
       "      <td>24_initial_1_1463_1463.JPG</td>\n",
       "      <td>V</td>\n",
       "      <td>G</td>\n",
       "      <td>0</td>\n",
       "      <td>LR2020</td>\n",
       "    </tr>\n",
       "    <tr>\n",
       "      <th>3</th>\n",
       "      <td>ID_DBO3ZGI1GM</td>\n",
       "      <td>L341F00167C01S00324Rp14178.jpg</td>\n",
       "      <td>M</td>\n",
       "      <td>DR</td>\n",
       "      <td>60</td>\n",
       "      <td>SR2020</td>\n",
       "    </tr>\n",
       "    <tr>\n",
       "      <th>4</th>\n",
       "      <td>ID_ORZLWTEUUS</td>\n",
       "      <td>L1084F02394C39S13931Ip.jpg</td>\n",
       "      <td>V</td>\n",
       "      <td>G</td>\n",
       "      <td>0</td>\n",
       "      <td>SR2021</td>\n",
       "    </tr>\n",
       "  </tbody>\n",
       "</table>\n",
       "</div>"
      ],
      "text/plain": [
       "              ID                        filename growth_stage damage  extent  \\\n",
       "0  ID_1S8OOWQYCB  L427F01330C01S03961Rp02052.jpg            S     WD       0   \n",
       "1  ID_0MD959MIZ0      L1083F00930C39S12674Ip.jpg            V      G       0   \n",
       "2  ID_JRJCI4Q11V      24_initial_1_1463_1463.JPG            V      G       0   \n",
       "3  ID_DBO3ZGI1GM  L341F00167C01S00324Rp14178.jpg            M     DR      60   \n",
       "4  ID_ORZLWTEUUS      L1084F02394C39S13931Ip.jpg            V      G       0   \n",
       "\n",
       "   season  \n",
       "0  SR2020  \n",
       "1  SR2021  \n",
       "2  LR2020  \n",
       "3  SR2020  \n",
       "4  SR2021  "
      ]
     },
     "execution_count": 134,
     "metadata": {},
     "output_type": "execute_result"
    }
   ],
   "source": [
    "data.head()"
   ]
  },
  {
   "cell_type": "code",
   "execution_count": 135,
   "metadata": {
    "colab": {
     "base_uri": "https://localhost:8080/"
    },
    "id": "Uo0zCSj4RC2b",
    "outputId": "58099278-593b-4f1c-c239-f7a4b6eb0001"
   },
   "outputs": [
    {
     "data": {
      "text/plain": [
       "array(['L427F01330C01S03961Rp02052.jpg', 'L1083F00930C39S12674Ip.jpg',\n",
       "       '24_initial_1_1463_1463.JPG', ...,\n",
       "       'L134F00766C01S09784Rp26034.jpg',\n",
       "       'L1153F02464C01S00194Rp01561.jpg',\n",
       "       'L406F00362C01S00614Rp06760.jpg'], dtype=object)"
      ]
     },
     "execution_count": 135,
     "metadata": {},
     "output_type": "execute_result"
    }
   ],
   "source": [
    "data['filename'].unique()"
   ]
  },
  {
   "cell_type": "code",
   "execution_count": 136,
   "metadata": {
    "colab": {
     "base_uri": "https://localhost:8080/"
    },
    "id": "01lKnSUuRD75",
    "outputId": "8c4674b8-a3c5-4297-c4ec-88a37544b4c2"
   },
   "outputs": [
    {
     "name": "stdout",
     "output_type": "stream",
     "text": [
      "<class 'pandas.core.frame.DataFrame'>\n",
      "RangeIndex: 26068 entries, 0 to 26067\n",
      "Data columns (total 6 columns):\n",
      " #   Column        Non-Null Count  Dtype \n",
      "---  ------        --------------  ----- \n",
      " 0   ID            26068 non-null  object\n",
      " 1   filename      26068 non-null  object\n",
      " 2   growth_stage  26068 non-null  object\n",
      " 3   damage        26068 non-null  object\n",
      " 4   extent        26068 non-null  int64 \n",
      " 5   season        26068 non-null  object\n",
      "dtypes: int64(1), object(5)\n",
      "memory usage: 1.2+ MB\n"
     ]
    }
   ],
   "source": [
    "data.info()"
   ]
  },
  {
   "cell_type": "code",
   "execution_count": 137,
   "metadata": {
    "colab": {
     "base_uri": "https://localhost:8080/"
    },
    "id": "2Z1TW0zORngZ",
    "outputId": "410c1ef1-0657-490b-8317-6ae5fb1632db"
   },
   "outputs": [
    {
     "data": {
      "text/plain": [
       "ID              0\n",
       "filename        0\n",
       "growth_stage    0\n",
       "damage          0\n",
       "extent          0\n",
       "season          0\n",
       "dtype: int64"
      ]
     },
     "execution_count": 137,
     "metadata": {},
     "output_type": "execute_result"
    }
   ],
   "source": [
    "data.isnull().sum()"
   ]
  },
  {
   "cell_type": "code",
   "execution_count": 138,
   "metadata": {
    "colab": {
     "base_uri": "https://localhost:8080/"
    },
    "id": "okn-az4rZFsC",
    "outputId": "0e084580-191a-4b8d-ed95-67c42603bb93"
   },
   "outputs": [
    {
     "data": {
      "text/plain": [
       "array(['S', 'V', 'M', 'F'], dtype=object)"
      ]
     },
     "execution_count": 138,
     "metadata": {},
     "output_type": "execute_result"
    }
   ],
   "source": [
    "data['growth_stage'].unique()"
   ]
  },
  {
   "cell_type": "code",
   "execution_count": 139,
   "metadata": {
    "colab": {
     "base_uri": "https://localhost:8080/"
    },
    "id": "aWjD2ED_ZYfO",
    "outputId": "34cdfcea-2d25-46eb-8029-ec9c161e0bc1"
   },
   "outputs": [
    {
     "data": {
      "text/plain": [
       "array(['SR2020', 'SR2021', 'LR2020', 'LR2021'], dtype=object)"
      ]
     },
     "execution_count": 139,
     "metadata": {},
     "output_type": "execute_result"
    }
   ],
   "source": [
    "data['season'].unique()"
   ]
  },
  {
   "cell_type": "code",
   "execution_count": 140,
   "metadata": {
    "colab": {
     "base_uri": "https://localhost:8080/"
    },
    "id": "BEU_FIQpZjMV",
    "outputId": "e3afd286-8413-4460-ce7a-c2f4a4e6bca2"
   },
   "outputs": [
    {
     "data": {
      "text/plain": [
       "array(['WD', 'G', 'DR', 'ND', 'DS', 'PS', 'WN', 'FD'], dtype=object)"
      ]
     },
     "execution_count": 140,
     "metadata": {},
     "output_type": "execute_result"
    }
   ],
   "source": [
    "data['damage'].unique()"
   ]
  },
  {
   "cell_type": "code",
   "execution_count": 141,
   "metadata": {
    "colab": {
     "base_uri": "https://localhost:8080/"
    },
    "id": "lBxGzS_aZqc1",
    "outputId": "0a2854a4-782e-465c-d4ce-d32f48406b49"
   },
   "outputs": [
    {
     "data": {
      "text/plain": [
       "dtype('int64')"
      ]
     },
     "execution_count": 141,
     "metadata": {},
     "output_type": "execute_result"
    }
   ],
   "source": [
    "data['extent'].dtype"
   ]
  },
  {
   "cell_type": "code",
   "execution_count": 142,
   "metadata": {
    "colab": {
     "base_uri": "https://localhost:8080/"
    },
    "id": "jIDyvLEJZtqM",
    "outputId": "71643998-33f4-4c42-a395-98183feba5ad"
   },
   "outputs": [
    {
     "data": {
      "text/plain": [
       "(26068, 6)"
      ]
     },
     "execution_count": 142,
     "metadata": {},
     "output_type": "execute_result"
    }
   ],
   "source": [
    "data.shape"
   ]
  },
  {
   "cell_type": "code",
   "execution_count": 143,
   "metadata": {
    "colab": {
     "base_uri": "https://localhost:8080/",
     "height": 450
    },
    "id": "c1uCAlJghBdL",
    "outputId": "8deb5543-ee0d-42ba-d4e0-07a65d982d0a"
   },
   "outputs": [
    {
     "data": {
      "image/png": "[encoded data removed]",
      "text/plain": [
       "<Figure size 640x480 with 1 Axes>"
      ]
     },
     "metadata": {},
     "output_type": "display_data"
    }
   ],
   "source": [
    "sns.lineplot(data=data, x='growth_stage', y='extent');"
   ]
  },
  {
   "cell_type": "code",
   "execution_count": 144,
   "metadata": {
    "colab": {
     "base_uri": "https://localhost:8080/",
     "height": 450
    },
    "id": "mjmcuvZ3hP4q",
    "outputId": "d0391666-3b24-48c6-98b7-d4fe0ca13635"
   },
   "outputs": [
    {
     "data": {
      "image/png": "[encoded data removed]",
      "text/plain": [
       "<Figure size 640x480 with 1 Axes>"
      ]
     },
     "metadata": {},
     "output_type": "display_data"
    }
   ],
   "source": [
    "sns.countplot(data=data, x='growth_stage');"
   ]
  },
  {
   "cell_type": "code",
   "execution_count": 145,
   "metadata": {
    "colab": {
     "base_uri": "https://localhost:8080/",
     "height": 450
    },
    "id": "bkOSzFKbhjEJ",
    "outputId": "7c8eeac0-493e-4a04-e256-362057e71328"
   },
   "outputs": [
    {
     "data": {
      "image/png": "[encoded data removed]",
      "text/plain": [
       "<Figure size 640x480 with 1 Axes>"
      ]
     },
     "metadata": {},
     "output_type": "display_data"
    }
   ],
   "source": [
    "sns.lineplot(data=data, x='growth_stage', y='extent', hue='damage')\n",
    "plt.legend(bbox_to_anchor = [1,1,0,0]);"
   ]
  },
  {
   "cell_type": "code",
   "execution_count": 146,
   "metadata": {
    "colab": {
     "base_uri": "https://localhost:8080/",
     "height": 449
    },
    "id": "ieWZxuExhtNJ",
    "outputId": "2c1d0b9a-d03d-461d-d40a-3553e7c1461a"
   },
   "outputs": [
    {
     "data": {
      "image/png": "[encoded data removed]",
      "text/plain": [
       "<Figure size 640x480 with 1 Axes>"
      ]
     },
     "metadata": {},
     "output_type": "display_data"
    }
   ],
   "source": [
    "sns.countplot(data=data, x='damage');"
   ]
  },
  {
   "cell_type": "code",
   "execution_count": 147,
   "metadata": {
    "colab": {
     "base_uri": "https://localhost:8080/",
     "height": 449
    },
    "id": "BgJuw5NhiOh-",
    "outputId": "96c5d533-d425-4033-a985-e6202307b625"
   },
   "outputs": [
    {
     "data": {
      "image/png": "[encoded data removed]",
      "text/plain": [
       "<Figure size 640x480 with 1 Axes>"
      ]
     },
     "metadata": {},
     "output_type": "display_data"
    }
   ],
   "source": [
    "sns.countplot(data=data, x='season');"
   ]
  },
  {
   "cell_type": "code",
   "execution_count": 148,
   "metadata": {
    "colab": {
     "base_uri": "https://localhost:8080/",
     "height": 449
    },
    "id": "-OItlLZ_khAW",
    "outputId": "5519f58b-af81-4b55-9874-91fbbadcc358"
   },
   "outputs": [
    {
     "data": {
      "image/png": "[encoded data removed]",
      "text/plain": [
       "<Figure size 640x480 with 1 Axes>"
      ]
     },
     "metadata": {},
     "output_type": "display_data"
    }
   ],
   "source": [
    "sns.lineplot(data=data, x='season', y='extent');"
   ]
  },
  {
   "cell_type": "code",
   "execution_count": 149,
   "metadata": {
    "colab": {
     "base_uri": "https://localhost:8080/",
     "height": 449
    },
    "id": "tK8j_E5Mkwlq",
    "outputId": "f6166b33-b971-4000-e0eb-0297ca4f0252"
   },
   "outputs": [
    {
     "data": {
      "image/png": "[encoded data removed]",
      "text/plain": [
       "<Figure size 640x480 with 1 Axes>"
      ]
     },
     "metadata": {},
     "output_type": "display_data"
    }
   ],
   "source": [
    "sns.barplot(data=data, x='season', y='extent');"
   ]
  },
  {
   "cell_type": "code",
   "execution_count": null,
   "metadata": {
    "colab": {
     "base_uri": "https://localhost:8080/",
     "height": 450
    },
    "id": "T7wGVYX0k_O2",
    "outputId": "483fca78-99b7-4b86-9f08-3da8f746e81d"
   },
   "outputs": [
    {
     "data": {
      "image/png": "[encoded data removed]",
      "text/plain": [
       "<Figure size 640x480 with 1 Axes>"
      ]
     },
     "metadata": {},
     "output_type": "display_data"
    }
   ],
   "source": [
    "sns.violinplot(data=data, x='growth_stage', y='extent');"
   ]
  },
  {
   "cell_type": "code",
   "execution_count": 150,
   "metadata": {
    "colab": {
     "base_uri": "https://localhost:8080/"
    },
    "id": "6xySV9WEqQmx",
    "outputId": "4ecae84c-0774-4869-c5bd-74ce55f69079"
   },
   "outputs": [
    {
     "data": {
      "text/plain": [
       "Index(['ID', 'filename', 'growth_stage', 'damage', 'extent', 'season'], dtype='object')"
      ]
     },
     "execution_count": 150,
     "metadata": {},
     "output_type": "execute_result"
    }
   ],
   "source": [
    "data.columns"
   ]
  },
  {
   "cell_type": "code",
   "execution_count": 151,
   "metadata": {
    "id": "JlAdqmJ-qTRZ"
   },
   "outputs": [],
   "source": [
    "data =data.drop(['ID','filename'], axis=1)"
   ]
  },
  {
   "cell_type": "code",
   "execution_count": 152,
   "metadata": {
    "id": "rxFx94Trqhoz"
   },
   "outputs": [],
   "source": [
    "categorical_columns = data.select_dtypes(include=['object']).columns.tolist()"
   ]
  },
  {
   "cell_type": "code",
   "execution_count": 153,
   "metadata": {
    "colab": {
     "base_uri": "https://localhost:8080/"
    },
    "id": "H4oy0btWrbYx",
    "outputId": "4ca64188-5716-471b-cfca-353c2e854f47"
   },
   "outputs": [
    {
     "data": {
      "text/plain": [
       "['growth_stage', 'damage', 'season']"
      ]
     },
     "execution_count": 153,
     "metadata": {},
     "output_type": "execute_result"
    }
   ],
   "source": [
    "categorical_columns"
   ]
  },
  {
   "cell_type": "code",
   "execution_count": 154,
   "metadata": {
    "id": "gr-HPydLpyG5"
   },
   "outputs": [],
   "source": [
    "df = pd.get_dummies(data, columns=categorical_columns, drop_first=True)"
   ]
  },
  {
   "cell_type": "code",
   "execution_count": 155,
   "metadata": {
    "colab": {
     "base_uri": "https://localhost:8080/",
     "height": 256
    },
    "id": "Z4KRkNHLrmB5",
    "outputId": "236cf58a-0e01-4d99-f97b-7579191a9541"
   },
   "outputs": [
    {
     "data": {
      "text/html": [
       "<div>\n",
       "<style scoped>\n",
       "    .dataframe tbody tr th:only-of-type {\n",
       "        vertical-align: middle;\n",
       "    }\n",
       "\n",
       "    .dataframe tbody tr th {\n",
       "        vertical-align: top;\n",
       "    }\n",
       "\n",
       "    .dataframe thead th {\n",
       "        text-align: right;\n",
       "    }\n",
       "</style>\n",
       "<table border=\"1\" class=\"dataframe\">\n",
       "  <thead>\n",
       "    <tr style=\"text-align: right;\">\n",
       "      <th></th>\n",
       "      <th>extent</th>\n",
       "      <th>growth_stage_M</th>\n",
       "      <th>growth_stage_S</th>\n",
       "      <th>growth_stage_V</th>\n",
       "      <th>damage_DS</th>\n",
       "      <th>damage_FD</th>\n",
       "      <th>damage_G</th>\n",
       "      <th>damage_ND</th>\n",
       "      <th>damage_PS</th>\n",
       "      <th>damage_WD</th>\n",
       "      <th>damage_WN</th>\n",
       "      <th>season_LR2021</th>\n",
       "      <th>season_SR2020</th>\n",
       "      <th>season_SR2021</th>\n",
       "    </tr>\n",
       "  </thead>\n",
       "  <tbody>\n",
       "    <tr>\n",
       "      <th>0</th>\n",
       "      <td>0</td>\n",
       "      <td>0</td>\n",
       "      <td>1</td>\n",
       "      <td>0</td>\n",
       "      <td>0</td>\n",
       "      <td>0</td>\n",
       "      <td>0</td>\n",
       "      <td>0</td>\n",
       "      <td>0</td>\n",
       "      <td>1</td>\n",
       "      <td>0</td>\n",
       "      <td>0</td>\n",
       "      <td>1</td>\n",
       "      <td>0</td>\n",
       "    </tr>\n",
       "    <tr>\n",
       "      <th>1</th>\n",
       "      <td>0</td>\n",
       "      <td>0</td>\n",
       "      <td>0</td>\n",
       "      <td>1</td>\n",
       "      <td>0</td>\n",
       "      <td>0</td>\n",
       "      <td>1</td>\n",
       "      <td>0</td>\n",
       "      <td>0</td>\n",
       "      <td>0</td>\n",
       "      <td>0</td>\n",
       "      <td>0</td>\n",
       "      <td>0</td>\n",
       "      <td>1</td>\n",
       "    </tr>\n",
       "    <tr>\n",
       "      <th>2</th>\n",
       "      <td>0</td>\n",
       "      <td>0</td>\n",
       "      <td>0</td>\n",
       "      <td>1</td>\n",
       "      <td>0</td>\n",
       "      <td>0</td>\n",
       "      <td>1</td>\n",
       "      <td>0</td>\n",
       "      <td>0</td>\n",
       "      <td>0</td>\n",
       "      <td>0</td>\n",
       "      <td>0</td>\n",
       "      <td>0</td>\n",
       "      <td>0</td>\n",
       "    </tr>\n",
       "    <tr>\n",
       "      <th>3</th>\n",
       "      <td>60</td>\n",
       "      <td>1</td>\n",
       "      <td>0</td>\n",
       "      <td>0</td>\n",
       "      <td>0</td>\n",
       "      <td>0</td>\n",
       "      <td>0</td>\n",
       "      <td>0</td>\n",
       "      <td>0</td>\n",
       "      <td>0</td>\n",
       "      <td>0</td>\n",
       "      <td>0</td>\n",
       "      <td>1</td>\n",
       "      <td>0</td>\n",
       "    </tr>\n",
       "    <tr>\n",
       "      <th>4</th>\n",
       "      <td>0</td>\n",
       "      <td>0</td>\n",
       "      <td>0</td>\n",
       "      <td>1</td>\n",
       "      <td>0</td>\n",
       "      <td>0</td>\n",
       "      <td>1</td>\n",
       "      <td>0</td>\n",
       "      <td>0</td>\n",
       "      <td>0</td>\n",
       "      <td>0</td>\n",
       "      <td>0</td>\n",
       "      <td>0</td>\n",
       "      <td>1</td>\n",
       "    </tr>\n",
       "  </tbody>\n",
       "</table>\n",
       "</div>"
      ],
      "text/plain": [
       "   extent  growth_stage_M  growth_stage_S  growth_stage_V  damage_DS  \\\n",
       "0       0               0               1               0          0   \n",
       "1       0               0               0               1          0   \n",
       "2       0               0               0               1          0   \n",
       "3      60               1               0               0          0   \n",
       "4       0               0               0               1          0   \n",
       "\n",
       "   damage_FD  damage_G  damage_ND  damage_PS  damage_WD  damage_WN  \\\n",
       "0          0         0          0          0          1          0   \n",
       "1          0         1          0          0          0          0   \n",
       "2          0         1          0          0          0          0   \n",
       "3          0         0          0          0          0          0   \n",
       "4          0         1          0          0          0          0   \n",
       "\n",
       "   season_LR2021  season_SR2020  season_SR2021  \n",
       "0              0              1              0  \n",
       "1              0              0              1  \n",
       "2              0              0              0  \n",
       "3              0              1              0  \n",
       "4              0              0              1  "
      ]
     },
     "execution_count": 155,
     "metadata": {},
     "output_type": "execute_result"
    }
   ],
   "source": [
    "df.head()"
   ]
  },
  {
   "cell_type": "code",
   "execution_count": 156,
   "metadata": {
    "id": "eBQsLjg8nDIe"
   },
   "outputs": [],
   "source": [
    "from sklearn.model_selection import train_test_split, GridSearchCV\n",
    "import xgboost as xgb\n",
    "from sklearn.metrics import r2_score, mean_squared_error\n",
    "from sklearn.linear_model import LinearRegression\n",
    "from sklearn.ensemble import RandomForestRegressor\n",
    "from sklearn.ensemble import GradientBoostingRegressor, AdaBoostRegressor\n",
    "from sklearn.tree import DecisionTreeRegressor\n",
    "from sklearn.svm import SVR"
   ]
  },
  {
   "cell_type": "code",
   "execution_count": 157,
   "metadata": {
    "id": "Xp1qOZHbpYMk"
   },
   "outputs": [],
   "source": [
    "# Create the feature matrix 'X' by dropping the 'wickets' column from 'new_df'\n",
    "X = df.drop('extent', axis=1)"
   ]
  },
  {
   "cell_type": "code",
   "execution_count": 158,
   "metadata": {
    "id": "pNaU6IH6r98j"
   },
   "outputs": [],
   "source": [
    "y = df['extent']\n",
    "y= np.log1p(y)"
   ]
  },
  {
   "cell_type": "code",
   "execution_count": 159,
   "metadata": {
    "id": "bJFUxbyAsJbS"
   },
   "outputs": [],
   "source": [
    "# Split the data into training and testing sets\n",
    "# X_train and y_train will be used for training the model\n",
    "# X_test and y_test will be used for evaluating the model\n",
    "X_train, X_test, y_train, y_test = train_test_split(X, y, test_size=0.2, random_state=42)"
   ]
  },
  {
   "cell_type": "code",
   "execution_count": 160,
   "metadata": {
    "id": "q8q2Y4ZoBSLL"
   },
   "outputs": [],
   "source": [
    "# Define a custom loss function to penalize predictions of 0\n",
    "def custom_loss(y_true, y_pred):\n",
    "    # Calculate the mean squared error (MSE)\n",
    "    mse = mean_squared_error(y_true, y_pred)\n",
    "    \n",
    "    # Penalize predictions of 0 by adding a large constant\n",
    "    penalty = 100 * np.mean(np.square(y_pred[y_true == 0]))\n",
    "    \n",
    "    return mse + penalty"
   ]
  },
  {
   "cell_type": "code",
   "execution_count": 161,
   "metadata": {},
   "outputs": [],
   "source": [
    "# Linear Regression\n",
    "linear_reg = LinearRegression()\n",
    "linear_reg.fit(X_train, y_train)\n",
    "linear_reg_predictions = linear_reg.predict(X_test)"
   ]
  },
  {
   "cell_type": "code",
   "execution_count": 162,
   "metadata": {},
   "outputs": [],
   "source": [
    "# XGBoost Regressor\n",
    "xgb_regressor = xgb.XGBRegressor()\n",
    "xgb_regressor.fit(X_train, y_train)\n",
    "xgb_predictions = xgb_regressor.predict(X_test)"
   ]
  },
  {
   "cell_type": "code",
   "execution_count": 163,
   "metadata": {},
   "outputs": [],
   "source": [
    "# Gradient Boosting Regressor\n",
    "gb_regressor = GradientBoostingRegressor()\n",
    "gb_regressor.fit(X_train, y_train)\n",
    "gb_predictions = gb_regressor.predict(X_test)"
   ]
  },
  {
   "cell_type": "code",
   "execution_count": 164,
   "metadata": {},
   "outputs": [],
   "source": [
    "# AdaBoost Regressor\n",
    "adaboost_regressor = AdaBoostRegressor(base_estimator=DecisionTreeRegressor(max_depth=4), n_estimators=100, learning_rate=0.1)\n",
    "adaboost_regressor.fit(X_train, y_train)\n",
    "adaboost_predictions = adaboost_regressor.predict(X_test)"
   ]
  },
  {
   "cell_type": "code",
   "execution_count": 165,
   "metadata": {},
   "outputs": [],
   "source": [
    "# Decision Tree Regressor\n",
    "dt_regressor = DecisionTreeRegressor()\n",
    "dt_regressor.fit(X_train, y_train)\n",
    "dt_predictions = dt_regressor.predict(X_test)"
   ]
  },
  {
   "cell_type": "code",
   "execution_count": 166,
   "metadata": {},
   "outputs": [],
   "source": [
    "# Evaluate the models\n",
    "linear_reg_r2 = r2_score(y_test, linear_reg_predictions)\n",
    "xgb_r2 = r2_score(y_test, xgb_predictions)\n",
    "gb_r2 = r2_score(y_test, gb_predictions)\n",
    "adaboost_r2 = r2_score(y_test, adaboost_predictions)\n",
    "dt_r2 = r2_score(y_test, dt_predictions)"
   ]
  },
  {
   "cell_type": "code",
   "execution_count": 167,
   "metadata": {
    "id": "DJg5Fd7aBX7Q"
   },
   "outputs": [
    {
     "name": "stdout",
     "output_type": "stream",
     "text": [
      "Linear Regression R^2 Score: 0.9568303947334513\n",
      "XGBoost R^2 Score: 0.9598764278291998\n",
      "Gradient Boosting R^2 Score: 0.9546585278501145\n",
      "AdaBoost R^2 Score: 0.8778582740682938\n",
      "Decision Tree R^2 Score: 0.9597190240949538\n"
     ]
    }
   ],
   "source": [
    "print(\"Linear Regression R^2 Score:\", linear_reg_r2)\n",
    "print(\"XGBoost R^2 Score:\", xgb_r2)\n",
    "print(\"Gradient Boosting R^2 Score:\", gb_r2)\n",
    "print(\"AdaBoost R^2 Score:\", adaboost_r2)\n",
    "print(\"Decision Tree R^2 Score:\", dt_r2)"
   ]
  },
  {
   "cell_type": "code",
   "execution_count": 168,
   "metadata": {
    "colab": {
     "base_uri": "https://localhost:8080/"
    },
    "id": "JrfRIIk6Bdzh",
    "outputId": "1a1cb46f-660c-4cd6-8853-a9baef3cf9d9"
   },
   "outputs": [],
   "source": [
    "from sklearn.metrics import mean_squared_error\n",
    "import numpy as np\n",
    "\n",
    "# Calculate RMSE for each model\n",
    "linear_reg_rmse = np.sqrt(mean_squared_error(y_test, linear_reg_predictions))\n",
    "xgb_rmse = np.sqrt(mean_squared_error(y_test, xgb_predictions))\n",
    "gb_rmse = np.sqrt(mean_squared_error(y_test, gb_predictions))\n",
    "adaboost_rmse = np.sqrt(mean_squared_error(y_test, adaboost_predictions))\n",
    "dt_rmse = np.sqrt(mean_squared_error(y_test, dt_predictions))"
   ]
  },
  {
   "cell_type": "code",
   "execution_count": 169,
   "metadata": {},
   "outputs": [
    {
     "name": "stdout",
     "output_type": "stream",
     "text": [
      "Linear Regression RMSE: 0.28984515051501725\n",
      "XGBoost RMSE: 0.2794324220705133\n",
      "Gradient Boosting RMSE: 0.2970467519988897\n",
      "AdaBoost RMSE: 0.487538622502788\n",
      "Decision Tree RMSE: 0.2799799886504031\n"
     ]
    }
   ],
   "source": [
    "print(\"Linear Regression RMSE:\", linear_reg_rmse)\n",
    "print(\"XGBoost RMSE:\", xgb_rmse)\n",
    "print(\"Gradient Boosting RMSE:\", gb_rmse)\n",
    "print(\"AdaBoost RMSE:\", adaboost_rmse)\n",
    "print(\"Decision Tree RMSE:\", dt_rmse)"
   ]
  },
  {
   "cell_type": "code",
   "execution_count": 170,
   "metadata": {},
   "outputs": [],
   "source": [
    "df_pred = pd.DataFrame({'y_true':y_test, 'Linear Regression': linear_reg_predictions,\n",
    "                   'XGBoost': xgb_predictions, 'Gradient Boosting': gb_predictions, 'AdaBoost': adaboost_predictions,\n",
    "                   'Decision Tree': dt_predictions})"
   ]
  },
  {
   "cell_type": "code",
   "execution_count": 171,
   "metadata": {},
   "outputs": [
    {
     "data": {
      "text/html": [
       "<div>\n",
       "<style scoped>\n",
       "    .dataframe tbody tr th:only-of-type {\n",
       "        vertical-align: middle;\n",
       "    }\n",
       "\n",
       "    .dataframe tbody tr th {\n",
       "        vertical-align: top;\n",
       "    }\n",
       "\n",
       "    .dataframe thead th {\n",
       "        text-align: right;\n",
       "    }\n",
       "</style>\n",
       "<table border=\"1\" class=\"dataframe\">\n",
       "  <thead>\n",
       "    <tr style=\"text-align: right;\">\n",
       "      <th></th>\n",
       "      <th>y_true</th>\n",
       "      <th>Linear Regression</th>\n",
       "      <th>XGBoost</th>\n",
       "      <th>Gradient Boosting</th>\n",
       "      <th>AdaBoost</th>\n",
       "      <th>Decision Tree</th>\n",
       "    </tr>\n",
       "  </thead>\n",
       "  <tbody>\n",
       "    <tr>\n",
       "      <th>1441</th>\n",
       "      <td>3.433987</td>\n",
       "      <td>3.531990</td>\n",
       "      <td>3.450055</td>\n",
       "      <td>3.582770</td>\n",
       "      <td>2.983636</td>\n",
       "      <td>3.449703</td>\n",
       "    </tr>\n",
       "    <tr>\n",
       "      <th>2464</th>\n",
       "      <td>0.000000</td>\n",
       "      <td>-0.018082</td>\n",
       "      <td>0.000075</td>\n",
       "      <td>0.011209</td>\n",
       "      <td>0.000000</td>\n",
       "      <td>0.000000</td>\n",
       "    </tr>\n",
       "    <tr>\n",
       "      <th>3023</th>\n",
       "      <td>0.000000</td>\n",
       "      <td>-0.048627</td>\n",
       "      <td>0.000068</td>\n",
       "      <td>0.011209</td>\n",
       "      <td>0.000000</td>\n",
       "      <td>0.000000</td>\n",
       "    </tr>\n",
       "    <tr>\n",
       "      <th>22605</th>\n",
       "      <td>0.000000</td>\n",
       "      <td>-0.020139</td>\n",
       "      <td>0.000037</td>\n",
       "      <td>0.014241</td>\n",
       "      <td>0.000000</td>\n",
       "      <td>0.000000</td>\n",
       "    </tr>\n",
       "    <tr>\n",
       "      <th>25163</th>\n",
       "      <td>0.000000</td>\n",
       "      <td>-0.004109</td>\n",
       "      <td>0.000045</td>\n",
       "      <td>0.011209</td>\n",
       "      <td>0.000000</td>\n",
       "      <td>0.000000</td>\n",
       "    </tr>\n",
       "  </tbody>\n",
       "</table>\n",
       "</div>"
      ],
      "text/plain": [
       "         y_true  Linear Regression   XGBoost  Gradient Boosting  AdaBoost  \\\n",
       "1441   3.433987           3.531990  3.450055           3.582770  2.983636   \n",
       "2464   0.000000          -0.018082  0.000075           0.011209  0.000000   \n",
       "3023   0.000000          -0.048627  0.000068           0.011209  0.000000   \n",
       "22605  0.000000          -0.020139  0.000037           0.014241  0.000000   \n",
       "25163  0.000000          -0.004109  0.000045           0.011209  0.000000   \n",
       "\n",
       "       Decision Tree  \n",
       "1441        3.449703  \n",
       "2464        0.000000  \n",
       "3023        0.000000  \n",
       "22605       0.000000  \n",
       "25163       0.000000  "
      ]
     },
     "execution_count": 171,
     "metadata": {},
     "output_type": "execute_result"
    }
   ],
   "source": [
    "df_pred.head()"
   ]
  },
  {
   "cell_type": "code",
   "execution_count": 172,
   "metadata": {},
   "outputs": [
    {
     "data": {
      "text/html": [
       "<div>\n",
       "<style scoped>\n",
       "    .dataframe tbody tr th:only-of-type {\n",
       "        vertical-align: middle;\n",
       "    }\n",
       "\n",
       "    .dataframe tbody tr th {\n",
       "        vertical-align: top;\n",
       "    }\n",
       "\n",
       "    .dataframe thead th {\n",
       "        text-align: right;\n",
       "    }\n",
       "</style>\n",
       "<table border=\"1\" class=\"dataframe\">\n",
       "  <thead>\n",
       "    <tr style=\"text-align: right;\">\n",
       "      <th></th>\n",
       "      <th>y_true</th>\n",
       "      <th>Linear Regression</th>\n",
       "      <th>XGBoost</th>\n",
       "      <th>Gradient Boosting</th>\n",
       "      <th>AdaBoost</th>\n",
       "      <th>Decision Tree</th>\n",
       "    </tr>\n",
       "  </thead>\n",
       "  <tbody>\n",
       "    <tr>\n",
       "      <th>2464</th>\n",
       "      <td>0.0</td>\n",
       "      <td>-0.018082</td>\n",
       "      <td>0.000075</td>\n",
       "      <td>0.011209</td>\n",
       "      <td>0.0</td>\n",
       "      <td>0.0</td>\n",
       "    </tr>\n",
       "    <tr>\n",
       "      <th>3023</th>\n",
       "      <td>0.0</td>\n",
       "      <td>-0.048627</td>\n",
       "      <td>0.000068</td>\n",
       "      <td>0.011209</td>\n",
       "      <td>0.0</td>\n",
       "      <td>0.0</td>\n",
       "    </tr>\n",
       "    <tr>\n",
       "      <th>22605</th>\n",
       "      <td>0.0</td>\n",
       "      <td>-0.020139</td>\n",
       "      <td>0.000037</td>\n",
       "      <td>0.014241</td>\n",
       "      <td>0.0</td>\n",
       "      <td>0.0</td>\n",
       "    </tr>\n",
       "    <tr>\n",
       "      <th>25163</th>\n",
       "      <td>0.0</td>\n",
       "      <td>-0.004109</td>\n",
       "      <td>0.000045</td>\n",
       "      <td>0.011209</td>\n",
       "      <td>0.0</td>\n",
       "      <td>0.0</td>\n",
       "    </tr>\n",
       "    <tr>\n",
       "      <th>1045</th>\n",
       "      <td>0.0</td>\n",
       "      <td>0.058072</td>\n",
       "      <td>0.002654</td>\n",
       "      <td>-0.013822</td>\n",
       "      <td>0.0</td>\n",
       "      <td>0.0</td>\n",
       "    </tr>\n",
       "    <tr>\n",
       "      <th>...</th>\n",
       "      <td>...</td>\n",
       "      <td>...</td>\n",
       "      <td>...</td>\n",
       "      <td>...</td>\n",
       "      <td>...</td>\n",
       "      <td>...</td>\n",
       "    </tr>\n",
       "    <tr>\n",
       "      <th>9710</th>\n",
       "      <td>0.0</td>\n",
       "      <td>0.045510</td>\n",
       "      <td>0.000011</td>\n",
       "      <td>0.014241</td>\n",
       "      <td>0.0</td>\n",
       "      <td>0.0</td>\n",
       "    </tr>\n",
       "    <tr>\n",
       "      <th>4010</th>\n",
       "      <td>0.0</td>\n",
       "      <td>0.027016</td>\n",
       "      <td>-0.000146</td>\n",
       "      <td>-0.013822</td>\n",
       "      <td>0.0</td>\n",
       "      <td>0.0</td>\n",
       "    </tr>\n",
       "    <tr>\n",
       "      <th>13709</th>\n",
       "      <td>0.0</td>\n",
       "      <td>-0.049700</td>\n",
       "      <td>0.000063</td>\n",
       "      <td>0.011209</td>\n",
       "      <td>0.0</td>\n",
       "      <td>0.0</td>\n",
       "    </tr>\n",
       "    <tr>\n",
       "      <th>12188</th>\n",
       "      <td>0.0</td>\n",
       "      <td>-0.021213</td>\n",
       "      <td>0.000110</td>\n",
       "      <td>0.014241</td>\n",
       "      <td>0.0</td>\n",
       "      <td>0.0</td>\n",
       "    </tr>\n",
       "    <tr>\n",
       "      <th>7172</th>\n",
       "      <td>0.0</td>\n",
       "      <td>-0.004109</td>\n",
       "      <td>0.000045</td>\n",
       "      <td>0.011209</td>\n",
       "      <td>0.0</td>\n",
       "      <td>0.0</td>\n",
       "    </tr>\n",
       "  </tbody>\n",
       "</table>\n",
       "<p>4275 rows × 6 columns</p>\n",
       "</div>"
      ],
      "text/plain": [
       "       y_true  Linear Regression   XGBoost  Gradient Boosting  AdaBoost  \\\n",
       "2464      0.0          -0.018082  0.000075           0.011209       0.0   \n",
       "3023      0.0          -0.048627  0.000068           0.011209       0.0   \n",
       "22605     0.0          -0.020139  0.000037           0.014241       0.0   \n",
       "25163     0.0          -0.004109  0.000045           0.011209       0.0   \n",
       "1045      0.0           0.058072  0.002654          -0.013822       0.0   \n",
       "...       ...                ...       ...                ...       ...   \n",
       "9710      0.0           0.045510  0.000011           0.014241       0.0   \n",
       "4010      0.0           0.027016 -0.000146          -0.013822       0.0   \n",
       "13709     0.0          -0.049700  0.000063           0.011209       0.0   \n",
       "12188     0.0          -0.021213  0.000110           0.014241       0.0   \n",
       "7172      0.0          -0.004109  0.000045           0.011209       0.0   \n",
       "\n",
       "       Decision Tree  \n",
       "2464             0.0  \n",
       "3023             0.0  \n",
       "22605            0.0  \n",
       "25163            0.0  \n",
       "1045             0.0  \n",
       "...              ...  \n",
       "9710             0.0  \n",
       "4010             0.0  \n",
       "13709            0.0  \n",
       "12188            0.0  \n",
       "7172             0.0  \n",
       "\n",
       "[4275 rows x 6 columns]"
      ]
     },
     "execution_count": 172,
     "metadata": {},
     "output_type": "execute_result"
    }
   ],
   "source": [
    "df_pred[df_pred['y_true'] == 0]"
   ]
  },
  {
   "cell_type": "code",
   "execution_count": null,
   "metadata": {},
   "outputs": [],
   "source": []
  },
  {
   "cell_type": "code",
   "execution_count": 173,
   "metadata": {
    "id": "rmeYBTAYso2G"
   },
   "outputs": [],
   "source": [
    "test_data = pd.read_csv('Test.csv')\n",
    "test_df = pd.get_dummies(test_data.drop(['ID','filename'],axis=1), drop_first=True)"
   ]
  },
  {
   "cell_type": "code",
   "execution_count": 174,
   "metadata": {},
   "outputs": [],
   "source": [
    "linear_reg_pred = linear_reg.predict(test_df)\n",
    "xgb_pred = xgb_regressor.predict(test_df)\n",
    "gb_pred = gb_regressor.predict(test_df)\n",
    "ada_pred = gb_regressor.predict(test_df)\n",
    "tree_pred = gb_regressor.predict(test_df)"
   ]
  },
  {
   "cell_type": "code",
   "execution_count": 175,
   "metadata": {},
   "outputs": [],
   "source": [
    "test_pred = pd.DataFrame({'Linear Regression': linear_reg_pred,\n",
    "                   'XGBoost':np.round(xgb_pred), 'Gradient Boosting':np.round(gb_pred),'AdaBoost': ada_pred, 'Decision_Tree': tree_pred})"
   ]
  },
  {
   "cell_type": "code",
   "execution_count": 177,
   "metadata": {},
   "outputs": [],
   "source": [
    "test_pred[test_pred < 0] = 0"
   ]
  },
  {
   "cell_type": "code",
   "execution_count": 185,
   "metadata": {},
   "outputs": [],
   "source": [
    "test_pred = np.round(test_pred).astype(int)"
   ]
  },
  {
   "cell_type": "code",
   "execution_count": 186,
   "metadata": {},
   "outputs": [],
   "source": [
    "finalG = pd.DataFrame({'ID': test_data['ID'], 'extent': np.expm1(test_pred['Gradient Boosting'])})\n",
    "finalT = pd.DataFrame({'ID': test_data['ID'], 'extent':np.expm1(test_pred['Decision_Tree'])})\n",
    "finalA =pd.DataFrame({'ID': test_data['ID'], 'extent':np.expm1(test_pred['AdaBoost'])})\n",
    "finalX =pd.DataFrame({'ID': test_data['ID'], 'extent':np.expm1(test_pred['XGBoost'])})\n",
    "finalL = pd.DataFrame({'ID': test_data['ID'], 'extent':np.expm1(test_pred['Linear Regression'])})"
   ]
  },
  {
   "cell_type": "code",
   "execution_count": 187,
   "metadata": {},
   "outputs": [
    {
     "data": {
      "text/plain": [
       "ID        0\n",
       "extent    0\n",
       "dtype: int64"
      ]
     },
     "execution_count": 187,
     "metadata": {},
     "output_type": "execute_result"
    }
   ],
   "source": [
    "finalT.isnull().sum()"
   ]
  },
  {
   "cell_type": "code",
   "execution_count": 189,
   "metadata": {},
   "outputs": [],
   "source": [
    "finalG.to_csv('finalgg', index = False)"
   ]
  },
  {
   "cell_type": "code",
   "execution_count": 191,
   "metadata": {},
   "outputs": [],
   "source": [
    "finalT.to_csv('finalt', index = False)"
   ]
  },
  {
   "cell_type": "code",
   "execution_count": 192,
   "metadata": {},
   "outputs": [],
   "source": [
    "finalA.to_csv('finala', index = False)"
   ]
  },
  {
   "cell_type": "code",
   "execution_count": 193,
   "metadata": {},
   "outputs": [],
   "source": [
    "finalX.to_csv('finalx', index = False)"
   ]
  },
  {
   "cell_type": "code",
   "execution_count": 195,
   "metadata": {},
   "outputs": [],
   "source": [
    "finalL.to_csv('finall', index = False)"
   ]
  },
  {
   "cell_type": "code",
   "execution_count": null,
   "metadata": {},
   "outputs": [],
   "source": []
  }
 ],
 "metadata": {
  "colab": {
   "provenance": []
  },
  "kernelspec": {
   "display_name": "Python 3 (ipykernel)",
   "language": "python",
   "name": "python3"
  },
  "language_info": {
   "codemirror_mode": {
    "name": "ipython",
    "version": 3
   },
   "file_extension": ".py",
   "mimetype": "text/x-python",
   "name": "python",
   "nbconvert_exporter": "python",
   "pygments_lexer": "ipython3",
   "version": "3.9.13"
  }
 },
 "nbformat": 4,
 "nbformat_minor": 1
}
